{
 "cells": [
  {
   "cell_type": "markdown",
   "id": "554d005d",
   "metadata": {},
   "source": [
    "# Here we will use ptune learning method as baseline for genre classification\n"
   ]
  },
  {
   "cell_type": "code",
   "execution_count": 1,
   "id": "bf8912f4",
   "metadata": {},
   "outputs": [],
   "source": [
    "import sys\n",
    "import os\n",
    "\n",
    "sys.path.append(os.path.abspath('../'))"
   ]
  },
  {
   "cell_type": "code",
   "execution_count": 2,
   "id": "d40a909a",
   "metadata": {},
   "outputs": [
    {
     "name": "stderr",
     "output_type": "stream",
     "text": [
      "/home/super-pc2/miniconda3/envs/genre-lyrics/lib/python3.10/site-packages/tqdm/auto.py:21: TqdmWarning: IProgress not found. Please update jupyter and ipywidgets. See https://ipywidgets.readthedocs.io/en/stable/user_install.html\n",
      "  from .autonotebook import tqdm as notebook_tqdm\n"
     ]
    },
    {
     "data": {
      "text/plain": [
       "'cuda'"
      ]
     },
     "execution_count": 2,
     "metadata": {},
     "output_type": "execute_result"
    }
   ],
   "source": [
    "import numpy as np\n",
    "\n",
    "os.environ[\"PYTORCH_CUDA_ALLOC_CONF\"] = \"expandable_segments:True\"\n",
    "import torch\n",
    "torch.cuda.empty_cache()\n",
    "device = 'cuda' if torch.cuda.is_available() else 'cpu'\n",
    "\n",
    "from transformers import AutoModelForCausalLM, AutoTokenizer\n",
    "\n",
    "from src.utils import logger, DatasetTypes\n",
    "from src.data import init_data\n",
    "from src.ptune import prepare_ptune, train, MultiLabelClassifier\n",
    "from src.model import get_pretrained\n",
    "from sklearn.metrics import classification_report, f1_score, precision_score, recall_score\n",
    "import json\n",
    "import re\n",
    "# supported files in spython\n",
    "device"
   ]
  },
  {
   "cell_type": "code",
   "execution_count": 3,
   "id": "8c534801-2e02-4f0a-b96c-c488206b8bb0",
   "metadata": {
    "execution": {
     "iopub.execute_input": "2025-05-25T15:12:36.717018Z",
     "iopub.status.busy": "2025-05-25T15:12:36.715900Z",
     "iopub.status.idle": "2025-05-25T15:13:00.731483Z",
     "shell.execute_reply": "2025-05-25T15:13:00.730602Z",
     "shell.execute_reply.started": "2025-05-25T15:12:36.716983Z"
    },
    "trusted": true
   },
   "outputs": [],
   "source": [
    "model_name = \"Qwen/Qwen3-0.6B\"\n",
    "tokenizer, base_model = get_pretrained(model_name, device)"
   ]
  },
  {
   "cell_type": "markdown",
   "id": "72ad611e",
   "metadata": {},
   "source": [
    "## Get dataset with all genres and 1,294,054 examples"
   ]
  },
  {
   "cell_type": "code",
   "execution_count": 4,
   "id": "24290537",
   "metadata": {},
   "outputs": [],
   "source": [
    "path_to_csv = '../data/top_genres.csv'\n",
    "train_dataset, val_dataset, test_dataset , idx2genre, genres, train_loader, val_loader, test_loader = init_data(path_to_csv=path_to_csv, batch_size=16, tokenizer=tokenizer)"
   ]
  },
  {
   "cell_type": "code",
   "execution_count": 5,
   "id": "724e45a1",
   "metadata": {},
   "outputs": [
    {
     "name": "stdout",
     "output_type": "stream",
     "text": [
      "trainable params: 30,720 || all params: 596,080,640 || trainable%: 0.0052\n"
     ]
    }
   ],
   "source": [
    "peft_model = prepare_ptune(model=base_model, model_name=model_name, genres=genres, device=device)\n",
    "hidden_size = base_model.config.hidden_size\n",
    "num_labels = len(genres)\n",
    "model = MultiLabelClassifier(peft_model, hidden_size, num_labels).to(\"cuda\")"
   ]
  },
  {
   "cell_type": "code",
   "execution_count": 6,
   "id": "0cfaa4f6",
   "metadata": {},
   "outputs": [],
   "source": [
    "num_epochs = 100\n",
    "warmup_steps = 500\n",
    "learning_rate = 1e-4\n",
    "treshold = 0.3"
   ]
  },
  {
   "cell_type": "code",
   "execution_count": 7,
   "id": "4943e64e",
   "metadata": {},
   "outputs": [
    {
     "name": "stderr",
     "output_type": "stream",
     "text": [
      "`use_cache=True` is incompatible with gradient checkpointing. Setting `use_cache=False`.\n",
      "Evaluating: 100%|██████████| 10/10 [00:01<00:00,  6.85it/s]\n"
     ]
    },
    {
     "name": "stdout",
     "output_type": "stream",
     "text": [
      "Epoch 1/100 | Train Loss: 0.0820 | Val F1: 0.2025 | P: 0.1290 | R: 0.7500\n"
     ]
    },
    {
     "name": "stderr",
     "output_type": "stream",
     "text": [
      "Evaluating: 100%|██████████| 10/10 [00:01<00:00,  6.82it/s]\n"
     ]
    },
    {
     "name": "stdout",
     "output_type": "stream",
     "text": [
      "Epoch 2/100 | Train Loss: 0.0300 | Val F1: 0.2031 | P: 0.1291 | R: 0.7500\n"
     ]
    },
    {
     "name": "stderr",
     "output_type": "stream",
     "text": [
      "Evaluating: 100%|██████████| 10/10 [00:01<00:00,  6.83it/s]\n"
     ]
    },
    {
     "name": "stdout",
     "output_type": "stream",
     "text": [
      "Epoch 3/100 | Train Loss: 0.0243 | Val F1: 0.2028 | P: 0.1290 | R: 0.7500\n"
     ]
    },
    {
     "name": "stderr",
     "output_type": "stream",
     "text": [
      "Evaluating: 100%|██████████| 10/10 [00:01<00:00,  6.83it/s]\n"
     ]
    },
    {
     "name": "stdout",
     "output_type": "stream",
     "text": [
      "Epoch 4/100 | Train Loss: 0.0213 | Val F1: 0.2033 | P: 0.1292 | R: 0.7500\n"
     ]
    },
    {
     "name": "stderr",
     "output_type": "stream",
     "text": [
      "Evaluating: 100%|██████████| 10/10 [00:01<00:00,  6.82it/s]\n"
     ]
    },
    {
     "name": "stdout",
     "output_type": "stream",
     "text": [
      "Epoch 5/100 | Train Loss: 0.0197 | Val F1: 0.2033 | P: 0.1292 | R: 0.7500\n"
     ]
    },
    {
     "name": "stderr",
     "output_type": "stream",
     "text": [
      "Evaluating: 100%|██████████| 10/10 [00:01<00:00,  6.83it/s]\n"
     ]
    },
    {
     "name": "stdout",
     "output_type": "stream",
     "text": [
      "Epoch 6/100 | Train Loss: 0.0172 | Val F1: 0.2035 | P: 0.1293 | R: 0.7500\n"
     ]
    },
    {
     "name": "stderr",
     "output_type": "stream",
     "text": [
      "Evaluating: 100%|██████████| 10/10 [00:01<00:00,  6.82it/s]\n"
     ]
    },
    {
     "name": "stdout",
     "output_type": "stream",
     "text": [
      "Epoch 7/100 | Train Loss: 0.0154 | Val F1: 0.2045 | P: 0.1298 | R: 0.7500\n"
     ]
    },
    {
     "name": "stderr",
     "output_type": "stream",
     "text": [
      "Evaluating: 100%|██████████| 10/10 [00:01<00:00,  6.81it/s]\n"
     ]
    },
    {
     "name": "stdout",
     "output_type": "stream",
     "text": [
      "Epoch 8/100 | Train Loss: 0.0141 | Val F1: 0.2076 | P: 0.1316 | R: 0.7500\n"
     ]
    },
    {
     "name": "stderr",
     "output_type": "stream",
     "text": [
      "Evaluating: 100%|██████████| 10/10 [00:01<00:00,  6.78it/s]\n"
     ]
    },
    {
     "name": "stdout",
     "output_type": "stream",
     "text": [
      "Epoch 9/100 | Train Loss: 0.0120 | Val F1: 0.2065 | P: 0.1311 | R: 0.7344\n"
     ]
    },
    {
     "name": "stderr",
     "output_type": "stream",
     "text": [
      "Evaluating: 100%|██████████| 10/10 [00:01<00:00,  6.79it/s]\n"
     ]
    },
    {
     "name": "stdout",
     "output_type": "stream",
     "text": [
      "Epoch 10/100 | Train Loss: 0.0114 | Val F1: 0.2092 | P: 0.1332 | R: 0.7188\n"
     ]
    },
    {
     "name": "stderr",
     "output_type": "stream",
     "text": [
      "Evaluating: 100%|██████████| 10/10 [00:01<00:00,  6.81it/s]\n"
     ]
    },
    {
     "name": "stdout",
     "output_type": "stream",
     "text": [
      "Epoch 11/100 | Train Loss: 0.0099 | Val F1: 0.2073 | P: 0.1322 | R: 0.6749\n"
     ]
    },
    {
     "name": "stderr",
     "output_type": "stream",
     "text": [
      "Evaluating: 100%|██████████| 10/10 [00:01<00:00,  6.80it/s]\n"
     ]
    },
    {
     "name": "stdout",
     "output_type": "stream",
     "text": [
      "Epoch 12/100 | Train Loss: 0.0093 | Val F1: 0.2117 | P: 0.1351 | R: 0.7031\n"
     ]
    },
    {
     "name": "stderr",
     "output_type": "stream",
     "text": [
      "Evaluating: 100%|██████████| 10/10 [00:01<00:00,  6.79it/s]\n"
     ]
    },
    {
     "name": "stdout",
     "output_type": "stream",
     "text": [
      "Epoch 13/100 | Train Loss: 0.0081 | Val F1: 0.2130 | P: 0.1358 | R: 0.6749\n"
     ]
    },
    {
     "name": "stderr",
     "output_type": "stream",
     "text": [
      "Evaluating: 100%|██████████| 10/10 [00:01<00:00,  6.81it/s]\n"
     ]
    },
    {
     "name": "stdout",
     "output_type": "stream",
     "text": [
      "Epoch 14/100 | Train Loss: 0.0067 | Val F1: 0.2180 | P: 0.1398 | R: 0.6749\n"
     ]
    },
    {
     "name": "stderr",
     "output_type": "stream",
     "text": [
      "Evaluating: 100%|██████████| 10/10 [00:01<00:00,  6.82it/s]\n"
     ]
    },
    {
     "name": "stdout",
     "output_type": "stream",
     "text": [
      "Epoch 15/100 | Train Loss: 0.0063 | Val F1: 0.2141 | P: 0.1380 | R: 0.6803\n"
     ]
    },
    {
     "name": "stderr",
     "output_type": "stream",
     "text": [
      "Evaluating: 100%|██████████| 10/10 [00:01<00:00,  6.75it/s]\n"
     ]
    },
    {
     "name": "stdout",
     "output_type": "stream",
     "text": [
      "Epoch 16/100 | Train Loss: 0.0055 | Val F1: 0.2217 | P: 0.1427 | R: 0.6803\n"
     ]
    },
    {
     "name": "stderr",
     "output_type": "stream",
     "text": [
      "Evaluating: 100%|██████████| 10/10 [00:01<00:00,  6.83it/s]\n"
     ]
    },
    {
     "name": "stdout",
     "output_type": "stream",
     "text": [
      "Epoch 17/100 | Train Loss: 0.0051 | Val F1: 0.2228 | P: 0.1434 | R: 0.6252\n"
     ]
    },
    {
     "name": "stderr",
     "output_type": "stream",
     "text": [
      "Evaluating: 100%|██████████| 10/10 [00:01<00:00,  6.82it/s]\n"
     ]
    },
    {
     "name": "stdout",
     "output_type": "stream",
     "text": [
      "Epoch 18/100 | Train Loss: 0.0044 | Val F1: 0.2079 | P: 0.1358 | R: 0.5343\n"
     ]
    },
    {
     "name": "stderr",
     "output_type": "stream",
     "text": [
      "Evaluating: 100%|██████████| 10/10 [00:01<00:00,  6.80it/s]\n"
     ]
    },
    {
     "name": "stdout",
     "output_type": "stream",
     "text": [
      "Epoch 19/100 | Train Loss: 0.0039 | Val F1: 0.2237 | P: 0.1456 | R: 0.6051\n"
     ]
    },
    {
     "name": "stderr",
     "output_type": "stream",
     "text": [
      "Evaluating: 100%|██████████| 10/10 [00:01<00:00,  6.79it/s]\n"
     ]
    },
    {
     "name": "stdout",
     "output_type": "stream",
     "text": [
      "Epoch 20/100 | Train Loss: 0.0034 | Val F1: 0.2218 | P: 0.1448 | R: 0.5740\n"
     ]
    },
    {
     "name": "stderr",
     "output_type": "stream",
     "text": [
      "Evaluating: 100%|██████████| 10/10 [00:01<00:00,  6.81it/s]\n"
     ]
    },
    {
     "name": "stdout",
     "output_type": "stream",
     "text": [
      "Epoch 21/100 | Train Loss: 0.0028 | Val F1: 0.2212 | P: 0.1456 | R: 0.5724\n"
     ]
    },
    {
     "name": "stderr",
     "output_type": "stream",
     "text": [
      "Evaluating: 100%|██████████| 10/10 [00:01<00:00,  6.81it/s]\n"
     ]
    },
    {
     "name": "stdout",
     "output_type": "stream",
     "text": [
      "Epoch 22/100 | Train Loss: 0.0025 | Val F1: 0.2198 | P: 0.1447 | R: 0.5612\n"
     ]
    },
    {
     "name": "stderr",
     "output_type": "stream",
     "text": [
      "Evaluating: 100%|██████████| 10/10 [00:01<00:00,  6.80it/s]\n"
     ]
    },
    {
     "name": "stdout",
     "output_type": "stream",
     "text": [
      "Epoch 23/100 | Train Loss: 0.0029 | Val F1: 0.2288 | P: 0.1502 | R: 0.5745\n"
     ]
    },
    {
     "name": "stderr",
     "output_type": "stream",
     "text": [
      "Evaluating: 100%|██████████| 10/10 [00:01<00:00,  6.80it/s]\n"
     ]
    },
    {
     "name": "stdout",
     "output_type": "stream",
     "text": [
      "Epoch 24/100 | Train Loss: 0.0027 | Val F1: 0.2347 | P: 0.1549 | R: 0.5769\n"
     ]
    },
    {
     "name": "stderr",
     "output_type": "stream",
     "text": [
      "Evaluating: 100%|██████████| 10/10 [00:01<00:00,  6.83it/s]\n"
     ]
    },
    {
     "name": "stdout",
     "output_type": "stream",
     "text": [
      "Epoch 25/100 | Train Loss: 0.0019 | Val F1: 0.2318 | P: 0.1536 | R: 0.5503\n"
     ]
    },
    {
     "name": "stderr",
     "output_type": "stream",
     "text": [
      "Evaluating: 100%|██████████| 10/10 [00:01<00:00,  6.80it/s]\n"
     ]
    },
    {
     "name": "stdout",
     "output_type": "stream",
     "text": [
      "Epoch 26/100 | Train Loss: 0.0021 | Val F1: 0.2336 | P: 0.1551 | R: 0.5686\n"
     ]
    },
    {
     "name": "stderr",
     "output_type": "stream",
     "text": [
      "Evaluating: 100%|██████████| 10/10 [00:01<00:00,  6.81it/s]\n"
     ]
    },
    {
     "name": "stdout",
     "output_type": "stream",
     "text": [
      "Epoch 27/100 | Train Loss: 0.0018 | Val F1: 0.2293 | P: 0.1534 | R: 0.5212\n"
     ]
    },
    {
     "name": "stderr",
     "output_type": "stream",
     "text": [
      "Evaluating: 100%|██████████| 10/10 [00:01<00:00,  6.79it/s]\n"
     ]
    },
    {
     "name": "stdout",
     "output_type": "stream",
     "text": [
      "Epoch 28/100 | Train Loss: 0.0019 | Val F1: 0.2359 | P: 0.1569 | R: 0.5669\n"
     ]
    },
    {
     "name": "stderr",
     "output_type": "stream",
     "text": [
      "Evaluating: 100%|██████████| 10/10 [00:01<00:00,  6.81it/s]\n"
     ]
    },
    {
     "name": "stdout",
     "output_type": "stream",
     "text": [
      "Epoch 29/100 | Train Loss: 0.0017 | Val F1: 0.2492 | P: 0.1678 | R: 0.5318\n"
     ]
    },
    {
     "name": "stderr",
     "output_type": "stream",
     "text": [
      "Evaluating: 100%|██████████| 10/10 [00:01<00:00,  6.81it/s]\n"
     ]
    },
    {
     "name": "stdout",
     "output_type": "stream",
     "text": [
      "Epoch 30/100 | Train Loss: 0.0016 | Val F1: 0.2484 | P: 0.1680 | R: 0.5772\n"
     ]
    },
    {
     "name": "stderr",
     "output_type": "stream",
     "text": [
      "Evaluating: 100%|██████████| 10/10 [00:01<00:00,  6.80it/s]\n"
     ]
    },
    {
     "name": "stdout",
     "output_type": "stream",
     "text": [
      "Epoch 31/100 | Train Loss: 0.0015 | Val F1: 0.2410 | P: 0.1624 | R: 0.5318\n"
     ]
    },
    {
     "name": "stderr",
     "output_type": "stream",
     "text": [
      "Evaluating: 100%|██████████| 10/10 [00:01<00:00,  6.79it/s]\n"
     ]
    },
    {
     "name": "stdout",
     "output_type": "stream",
     "text": [
      "Epoch 32/100 | Train Loss: 0.0014 | Val F1: 0.2365 | P: 0.1600 | R: 0.5313\n"
     ]
    },
    {
     "name": "stderr",
     "output_type": "stream",
     "text": [
      "Evaluating: 100%|██████████| 10/10 [00:01<00:00,  6.80it/s]\n"
     ]
    },
    {
     "name": "stdout",
     "output_type": "stream",
     "text": [
      "Epoch 33/100 | Train Loss: 0.0010 | Val F1: 0.2453 | P: 0.1660 | R: 0.5297\n"
     ]
    },
    {
     "name": "stderr",
     "output_type": "stream",
     "text": [
      "Evaluating: 100%|██████████| 10/10 [00:01<00:00,  6.79it/s]\n"
     ]
    },
    {
     "name": "stdout",
     "output_type": "stream",
     "text": [
      "Epoch 34/100 | Train Loss: 0.0009 | Val F1: 0.2429 | P: 0.1667 | R: 0.5029\n"
     ]
    },
    {
     "name": "stderr",
     "output_type": "stream",
     "text": [
      "Evaluating: 100%|██████████| 10/10 [00:01<00:00,  6.83it/s]\n"
     ]
    },
    {
     "name": "stdout",
     "output_type": "stream",
     "text": [
      "Epoch 35/100 | Train Loss: 0.0008 | Val F1: 0.2429 | P: 0.1659 | R: 0.5043\n"
     ]
    },
    {
     "name": "stderr",
     "output_type": "stream",
     "text": [
      "Evaluating: 100%|██████████| 10/10 [00:01<00:00,  6.82it/s]\n"
     ]
    },
    {
     "name": "stdout",
     "output_type": "stream",
     "text": [
      "Epoch 36/100 | Train Loss: 0.0006 | Val F1: 0.2488 | P: 0.1710 | R: 0.5119\n"
     ]
    },
    {
     "name": "stderr",
     "output_type": "stream",
     "text": [
      "Evaluating: 100%|██████████| 10/10 [00:01<00:00,  6.81it/s]\n"
     ]
    },
    {
     "name": "stdout",
     "output_type": "stream",
     "text": [
      "Epoch 37/100 | Train Loss: 0.0006 | Val F1: 0.2504 | P: 0.1715 | R: 0.5097\n"
     ]
    },
    {
     "name": "stderr",
     "output_type": "stream",
     "text": [
      "Evaluating: 100%|██████████| 10/10 [00:01<00:00,  6.82it/s]\n"
     ]
    },
    {
     "name": "stdout",
     "output_type": "stream",
     "text": [
      "Epoch 38/100 | Train Loss: 0.0006 | Val F1: 0.2451 | P: 0.1682 | R: 0.4984\n"
     ]
    },
    {
     "name": "stderr",
     "output_type": "stream",
     "text": [
      "Evaluating: 100%|██████████| 10/10 [00:01<00:00,  6.80it/s]\n"
     ]
    },
    {
     "name": "stdout",
     "output_type": "stream",
     "text": [
      "Epoch 39/100 | Train Loss: 0.0005 | Val F1: 0.2464 | P: 0.1729 | R: 0.4871\n"
     ]
    },
    {
     "name": "stderr",
     "output_type": "stream",
     "text": [
      "Evaluating: 100%|██████████| 10/10 [00:01<00:00,  6.80it/s]\n"
     ]
    },
    {
     "name": "stdout",
     "output_type": "stream",
     "text": [
      "Epoch 40/100 | Train Loss: 0.0004 | Val F1: 0.2547 | P: 0.1790 | R: 0.4849\n"
     ]
    },
    {
     "name": "stderr",
     "output_type": "stream",
     "text": [
      "Evaluating: 100%|██████████| 10/10 [00:01<00:00,  6.81it/s]\n"
     ]
    },
    {
     "name": "stdout",
     "output_type": "stream",
     "text": [
      "Epoch 41/100 | Train Loss: 0.0004 | Val F1: 0.2465 | P: 0.1704 | R: 0.4887\n"
     ]
    },
    {
     "name": "stderr",
     "output_type": "stream",
     "text": [
      "Evaluating: 100%|██████████| 10/10 [00:01<00:00,  6.79it/s]\n"
     ]
    },
    {
     "name": "stdout",
     "output_type": "stream",
     "text": [
      "Epoch 42/100 | Train Loss: 0.0004 | Val F1: 0.2554 | P: 0.1768 | R: 0.5081\n"
     ]
    },
    {
     "name": "stderr",
     "output_type": "stream",
     "text": [
      "Evaluating: 100%|██████████| 10/10 [00:01<00:00,  6.80it/s]\n"
     ]
    },
    {
     "name": "stdout",
     "output_type": "stream",
     "text": [
      "Epoch 43/100 | Train Loss: 0.0004 | Val F1: 0.2523 | P: 0.1758 | R: 0.4806\n"
     ]
    },
    {
     "name": "stderr",
     "output_type": "stream",
     "text": [
      "Evaluating: 100%|██████████| 10/10 [00:01<00:00,  6.74it/s]\n"
     ]
    },
    {
     "name": "stdout",
     "output_type": "stream",
     "text": [
      "Epoch 44/100 | Train Loss: 0.0003 | Val F1: 0.2508 | P: 0.1756 | R: 0.4828\n"
     ]
    },
    {
     "name": "stderr",
     "output_type": "stream",
     "text": [
      "Evaluating: 100%|██████████| 10/10 [00:01<00:00,  6.79it/s]\n"
     ]
    },
    {
     "name": "stdout",
     "output_type": "stream",
     "text": [
      "Epoch 45/100 | Train Loss: 0.0003 | Val F1: 0.2463 | P: 0.1753 | R: 0.4373\n"
     ]
    },
    {
     "name": "stderr",
     "output_type": "stream",
     "text": [
      "Evaluating: 100%|██████████| 10/10 [00:01<00:00,  6.82it/s]\n"
     ]
    },
    {
     "name": "stdout",
     "output_type": "stream",
     "text": [
      "Epoch 46/100 | Train Loss: 0.0003 | Val F1: 0.2538 | P: 0.1788 | R: 0.4784\n"
     ]
    },
    {
     "name": "stderr",
     "output_type": "stream",
     "text": [
      "Evaluating: 100%|██████████| 10/10 [00:01<00:00,  6.79it/s]\n"
     ]
    },
    {
     "name": "stdout",
     "output_type": "stream",
     "text": [
      "Epoch 47/100 | Train Loss: 0.0003 | Val F1: 0.2469 | P: 0.1772 | R: 0.4330\n"
     ]
    },
    {
     "name": "stderr",
     "output_type": "stream",
     "text": [
      "Evaluating: 100%|██████████| 10/10 [00:01<00:00,  6.82it/s]\n"
     ]
    },
    {
     "name": "stdout",
     "output_type": "stream",
     "text": [
      "Epoch 48/100 | Train Loss: 0.0003 | Val F1: 0.2549 | P: 0.1799 | R: 0.4828\n"
     ]
    },
    {
     "name": "stderr",
     "output_type": "stream",
     "text": [
      "Evaluating: 100%|██████████| 10/10 [00:01<00:00,  6.78it/s]\n"
     ]
    },
    {
     "name": "stdout",
     "output_type": "stream",
     "text": [
      "Epoch 49/100 | Train Loss: 0.0003 | Val F1: 0.2635 | P: 0.1874 | R: 0.4865\n"
     ]
    },
    {
     "name": "stderr",
     "output_type": "stream",
     "text": [
      "Evaluating: 100%|██████████| 10/10 [00:01<00:00,  6.81it/s]\n"
     ]
    },
    {
     "name": "stdout",
     "output_type": "stream",
     "text": [
      "Epoch 50/100 | Train Loss: 0.0002 | Val F1: 0.2512 | P: 0.1767 | R: 0.4709\n"
     ]
    },
    {
     "name": "stderr",
     "output_type": "stream",
     "text": [
      "Evaluating: 100%|██████████| 10/10 [00:01<00:00,  6.79it/s]\n"
     ]
    },
    {
     "name": "stdout",
     "output_type": "stream",
     "text": [
      "Epoch 51/100 | Train Loss: 0.0002 | Val F1: 0.2592 | P: 0.1844 | R: 0.4806\n"
     ]
    },
    {
     "name": "stderr",
     "output_type": "stream",
     "text": [
      "Evaluating: 100%|██████████| 10/10 [00:01<00:00,  6.80it/s]\n"
     ]
    },
    {
     "name": "stdout",
     "output_type": "stream",
     "text": [
      "Epoch 52/100 | Train Loss: 0.0002 | Val F1: 0.2528 | P: 0.1791 | R: 0.4730\n"
     ]
    },
    {
     "name": "stderr",
     "output_type": "stream",
     "text": [
      "Evaluating: 100%|██████████| 10/10 [00:01<00:00,  6.79it/s]\n"
     ]
    },
    {
     "name": "stdout",
     "output_type": "stream",
     "text": [
      "Epoch 53/100 | Train Loss: 0.0002 | Val F1: 0.2597 | P: 0.1848 | R: 0.4822\n"
     ]
    },
    {
     "name": "stderr",
     "output_type": "stream",
     "text": [
      "Evaluating: 100%|██████████| 10/10 [00:01<00:00,  6.81it/s]\n"
     ]
    },
    {
     "name": "stdout",
     "output_type": "stream",
     "text": [
      "Epoch 54/100 | Train Loss: 0.0002 | Val F1: 0.2581 | P: 0.1827 | R: 0.4768\n"
     ]
    },
    {
     "name": "stderr",
     "output_type": "stream",
     "text": [
      "Evaluating: 100%|██████████| 10/10 [00:01<00:00,  6.75it/s]\n"
     ]
    },
    {
     "name": "stdout",
     "output_type": "stream",
     "text": [
      "Epoch 55/100 | Train Loss: 0.0002 | Val F1: 0.2425 | P: 0.1746 | R: 0.4174\n"
     ]
    },
    {
     "name": "stderr",
     "output_type": "stream",
     "text": [
      "Evaluating: 100%|██████████| 10/10 [00:01<00:00,  6.81it/s]\n"
     ]
    },
    {
     "name": "stdout",
     "output_type": "stream",
     "text": [
      "Epoch 56/100 | Train Loss: 0.0002 | Val F1: 0.2489 | P: 0.1788 | R: 0.4308\n"
     ]
    },
    {
     "name": "stderr",
     "output_type": "stream",
     "text": [
      "Evaluating: 100%|██████████| 10/10 [00:01<00:00,  6.81it/s]\n"
     ]
    },
    {
     "name": "stdout",
     "output_type": "stream",
     "text": [
      "Epoch 57/100 | Train Loss: 0.0002 | Val F1: 0.2537 | P: 0.1834 | R: 0.4346\n"
     ]
    },
    {
     "name": "stderr",
     "output_type": "stream",
     "text": [
      "Evaluating: 100%|██████████| 10/10 [00:01<00:00,  6.81it/s]\n"
     ]
    },
    {
     "name": "stdout",
     "output_type": "stream",
     "text": [
      "Epoch 58/100 | Train Loss: 0.0002 | Val F1: 0.2668 | P: 0.1909 | R: 0.4784\n"
     ]
    },
    {
     "name": "stderr",
     "output_type": "stream",
     "text": [
      "Evaluating: 100%|██████████| 10/10 [00:01<00:00,  6.79it/s]\n"
     ]
    },
    {
     "name": "stdout",
     "output_type": "stream",
     "text": [
      "Epoch 59/100 | Train Loss: 0.0002 | Val F1: 0.2527 | P: 0.1826 | R: 0.4325\n"
     ]
    },
    {
     "name": "stderr",
     "output_type": "stream",
     "text": [
      "Evaluating: 100%|██████████| 10/10 [00:01<00:00,  6.80it/s]\n"
     ]
    },
    {
     "name": "stdout",
     "output_type": "stream",
     "text": [
      "Epoch 60/100 | Train Loss: 0.0002 | Val F1: 0.2661 | P: 0.1932 | R: 0.4709\n"
     ]
    },
    {
     "name": "stderr",
     "output_type": "stream",
     "text": [
      "Evaluating: 100%|██████████| 10/10 [00:01<00:00,  6.81it/s]\n"
     ]
    },
    {
     "name": "stdout",
     "output_type": "stream",
     "text": [
      "Epoch 61/100 | Train Loss: 0.0002 | Val F1: 0.2595 | P: 0.1909 | R: 0.4308\n"
     ]
    },
    {
     "name": "stderr",
     "output_type": "stream",
     "text": [
      "Evaluating: 100%|██████████| 10/10 [00:01<00:00,  6.81it/s]\n"
     ]
    },
    {
     "name": "stdout",
     "output_type": "stream",
     "text": [
      "Epoch 62/100 | Train Loss: 0.0002 | Val F1: 0.2488 | P: 0.1854 | R: 0.3913\n"
     ]
    },
    {
     "name": "stderr",
     "output_type": "stream",
     "text": [
      "Evaluating: 100%|██████████| 10/10 [00:01<00:00,  6.81it/s]\n"
     ]
    },
    {
     "name": "stdout",
     "output_type": "stream",
     "text": [
      "Epoch 63/100 | Train Loss: 0.0002 | Val F1: 0.2684 | P: 0.1943 | R: 0.4763\n"
     ]
    },
    {
     "name": "stderr",
     "output_type": "stream",
     "text": [
      "Evaluating: 100%|██████████| 10/10 [00:01<00:00,  6.80it/s]\n"
     ]
    },
    {
     "name": "stdout",
     "output_type": "stream",
     "text": [
      "Epoch 64/100 | Train Loss: 0.0002 | Val F1: 0.2560 | P: 0.1843 | R: 0.4427\n"
     ]
    },
    {
     "name": "stderr",
     "output_type": "stream",
     "text": [
      "Evaluating: 100%|██████████| 10/10 [00:01<00:00,  6.81it/s]\n"
     ]
    },
    {
     "name": "stdout",
     "output_type": "stream",
     "text": [
      "Epoch 65/100 | Train Loss: 0.0001 | Val F1: 0.2678 | P: 0.1942 | R: 0.4704\n"
     ]
    },
    {
     "name": "stderr",
     "output_type": "stream",
     "text": [
      "Evaluating: 100%|██████████| 10/10 [00:01<00:00,  6.80it/s]\n"
     ]
    },
    {
     "name": "stdout",
     "output_type": "stream",
     "text": [
      "Epoch 66/100 | Train Loss: 0.0001 | Val F1: 0.2692 | P: 0.1967 | R: 0.4747\n"
     ]
    },
    {
     "name": "stderr",
     "output_type": "stream",
     "text": [
      "Evaluating: 100%|██████████| 10/10 [00:01<00:00,  6.82it/s]\n"
     ]
    },
    {
     "name": "stdout",
     "output_type": "stream",
     "text": [
      "Epoch 67/100 | Train Loss: 0.0001 | Val F1: 0.2661 | P: 0.1930 | R: 0.4725\n"
     ]
    },
    {
     "name": "stderr",
     "output_type": "stream",
     "text": [
      "Evaluating: 100%|██████████| 10/10 [00:01<00:00,  6.82it/s]\n"
     ]
    },
    {
     "name": "stdout",
     "output_type": "stream",
     "text": [
      "Epoch 68/100 | Train Loss: 0.0001 | Val F1: 0.2717 | P: 0.1968 | R: 0.4784\n"
     ]
    },
    {
     "name": "stderr",
     "output_type": "stream",
     "text": [
      "Evaluating: 100%|██████████| 10/10 [00:01<00:00,  6.78it/s]\n"
     ]
    },
    {
     "name": "stdout",
     "output_type": "stream",
     "text": [
      "Epoch 69/100 | Train Loss: 0.0001 | Val F1: 0.2401 | P: 0.1772 | R: 0.3816\n"
     ]
    },
    {
     "name": "stderr",
     "output_type": "stream",
     "text": [
      "Evaluating: 100%|██████████| 10/10 [00:01<00:00,  6.75it/s]\n"
     ]
    },
    {
     "name": "stdout",
     "output_type": "stream",
     "text": [
      "Epoch 70/100 | Train Loss: 0.0001 | Val F1: 0.2617 | P: 0.1936 | R: 0.4271\n"
     ]
    },
    {
     "name": "stderr",
     "output_type": "stream",
     "text": [
      "Evaluating: 100%|██████████| 10/10 [00:01<00:00,  6.81it/s]\n"
     ]
    },
    {
     "name": "stdout",
     "output_type": "stream",
     "text": [
      "Epoch 71/100 | Train Loss: 0.0001 | Val F1: 0.2622 | P: 0.1928 | R: 0.4308\n"
     ]
    },
    {
     "name": "stderr",
     "output_type": "stream",
     "text": [
      "Evaluating: 100%|██████████| 10/10 [00:01<00:00,  6.81it/s]\n"
     ]
    },
    {
     "name": "stdout",
     "output_type": "stream",
     "text": [
      "Epoch 72/100 | Train Loss: 0.0001 | Val F1: 0.2596 | P: 0.1918 | R: 0.4249\n"
     ]
    },
    {
     "name": "stderr",
     "output_type": "stream",
     "text": [
      "Evaluating: 100%|██████████| 10/10 [00:01<00:00,  6.81it/s]\n"
     ]
    },
    {
     "name": "stdout",
     "output_type": "stream",
     "text": [
      "Epoch 73/100 | Train Loss: 0.0001 | Val F1: 0.2730 | P: 0.1983 | R: 0.4763\n"
     ]
    },
    {
     "name": "stderr",
     "output_type": "stream",
     "text": [
      "Evaluating: 100%|██████████| 10/10 [00:01<00:00,  6.81it/s]\n"
     ]
    },
    {
     "name": "stdout",
     "output_type": "stream",
     "text": [
      "Epoch 74/100 | Train Loss: 0.0001 | Val F1: 0.2606 | P: 0.1922 | R: 0.4249\n"
     ]
    },
    {
     "name": "stderr",
     "output_type": "stream",
     "text": [
      "Evaluating: 100%|██████████| 10/10 [00:01<00:00,  6.81it/s]\n"
     ]
    },
    {
     "name": "stdout",
     "output_type": "stream",
     "text": [
      "Epoch 75/100 | Train Loss: 0.0001 | Val F1: 0.2580 | P: 0.1902 | R: 0.4195\n"
     ]
    },
    {
     "name": "stderr",
     "output_type": "stream",
     "text": [
      "Evaluating: 100%|██████████| 10/10 [00:01<00:00,  6.83it/s]\n"
     ]
    },
    {
     "name": "stdout",
     "output_type": "stream",
     "text": [
      "Epoch 76/100 | Train Loss: 0.0001 | Val F1: 0.2526 | P: 0.1849 | R: 0.4152\n"
     ]
    },
    {
     "name": "stderr",
     "output_type": "stream",
     "text": [
      "Evaluating: 100%|██████████| 10/10 [00:01<00:00,  6.79it/s]\n"
     ]
    },
    {
     "name": "stdout",
     "output_type": "stream",
     "text": [
      "Epoch 77/100 | Train Loss: 0.0001 | Val F1: 0.2625 | P: 0.1949 | R: 0.4211\n"
     ]
    },
    {
     "name": "stderr",
     "output_type": "stream",
     "text": [
      "Evaluating: 100%|██████████| 10/10 [00:01<00:00,  6.82it/s]\n"
     ]
    },
    {
     "name": "stdout",
     "output_type": "stream",
     "text": [
      "Epoch 78/100 | Train Loss: 0.0001 | Val F1: 0.2709 | P: 0.1973 | R: 0.4637\n"
     ]
    },
    {
     "name": "stderr",
     "output_type": "stream",
     "text": [
      "Evaluating: 100%|██████████| 10/10 [00:01<00:00,  6.80it/s]\n"
     ]
    },
    {
     "name": "stdout",
     "output_type": "stream",
     "text": [
      "Epoch 79/100 | Train Loss: 0.0001 | Val F1: 0.2484 | P: 0.1858 | R: 0.3870\n"
     ]
    },
    {
     "name": "stderr",
     "output_type": "stream",
     "text": [
      "Evaluating: 100%|██████████| 10/10 [00:01<00:00,  6.80it/s]\n"
     ]
    },
    {
     "name": "stdout",
     "output_type": "stream",
     "text": [
      "Epoch 80/100 | Train Loss: 0.0001 | Val F1: 0.2736 | P: 0.2005 | R: 0.4718\n"
     ]
    },
    {
     "name": "stderr",
     "output_type": "stream",
     "text": [
      "Evaluating: 100%|██████████| 10/10 [00:01<00:00,  6.79it/s]\n"
     ]
    },
    {
     "name": "stdout",
     "output_type": "stream",
     "text": [
      "Epoch 81/100 | Train Loss: 0.0001 | Val F1: 0.2666 | P: 0.2003 | R: 0.4242\n"
     ]
    },
    {
     "name": "stderr",
     "output_type": "stream",
     "text": [
      "Evaluating: 100%|██████████| 10/10 [00:01<00:00,  6.80it/s]\n"
     ]
    },
    {
     "name": "stdout",
     "output_type": "stream",
     "text": [
      "Epoch 82/100 | Train Loss: 0.0001 | Val F1: 0.2601 | P: 0.1930 | R: 0.4271\n"
     ]
    },
    {
     "name": "stderr",
     "output_type": "stream",
     "text": [
      "Evaluating: 100%|██████████| 10/10 [00:01<00:00,  6.79it/s]\n"
     ]
    },
    {
     "name": "stdout",
     "output_type": "stream",
     "text": [
      "Epoch 83/100 | Train Loss: 0.0001 | Val F1: 0.2715 | P: 0.1986 | R: 0.4666\n"
     ]
    },
    {
     "name": "stderr",
     "output_type": "stream",
     "text": [
      "Evaluating: 100%|██████████| 10/10 [00:01<00:00,  6.82it/s]\n"
     ]
    },
    {
     "name": "stdout",
     "output_type": "stream",
     "text": [
      "Epoch 84/100 | Train Loss: 0.0001 | Val F1: 0.2618 | P: 0.1934 | R: 0.4280\n"
     ]
    },
    {
     "name": "stderr",
     "output_type": "stream",
     "text": [
      "Evaluating: 100%|██████████| 10/10 [00:01<00:00,  6.80it/s]\n"
     ]
    },
    {
     "name": "stdout",
     "output_type": "stream",
     "text": [
      "Epoch 85/100 | Train Loss: 0.0001 | Val F1: 0.2521 | P: 0.1870 | R: 0.4152\n"
     ]
    },
    {
     "name": "stderr",
     "output_type": "stream",
     "text": [
      "Evaluating: 100%|██████████| 10/10 [00:01<00:00,  6.82it/s]\n"
     ]
    },
    {
     "name": "stdout",
     "output_type": "stream",
     "text": [
      "Epoch 86/100 | Train Loss: 0.0001 | Val F1: 0.2572 | P: 0.1914 | R: 0.4190\n"
     ]
    },
    {
     "name": "stderr",
     "output_type": "stream",
     "text": [
      "Evaluating: 100%|██████████| 10/10 [00:01<00:00,  6.79it/s]\n"
     ]
    },
    {
     "name": "stdout",
     "output_type": "stream",
     "text": [
      "Epoch 87/100 | Train Loss: 0.0001 | Val F1: 0.2360 | P: 0.1760 | R: 0.3676\n"
     ]
    },
    {
     "name": "stderr",
     "output_type": "stream",
     "text": [
      "Evaluating: 100%|██████████| 10/10 [00:01<00:00,  6.81it/s]\n"
     ]
    },
    {
     "name": "stdout",
     "output_type": "stream",
     "text": [
      "Epoch 88/100 | Train Loss: 0.0001 | Val F1: 0.2431 | P: 0.1814 | R: 0.3773\n"
     ]
    },
    {
     "name": "stderr",
     "output_type": "stream",
     "text": [
      "Evaluating: 100%|██████████| 10/10 [00:01<00:00,  6.79it/s]\n"
     ]
    },
    {
     "name": "stdout",
     "output_type": "stream",
     "text": [
      "Epoch 89/100 | Train Loss: 0.0001 | Val F1: 0.2637 | P: 0.1959 | R: 0.4308\n"
     ]
    },
    {
     "name": "stderr",
     "output_type": "stream",
     "text": [
      "Evaluating: 100%|██████████| 10/10 [00:01<00:00,  6.80it/s]\n"
     ]
    },
    {
     "name": "stdout",
     "output_type": "stream",
     "text": [
      "Epoch 90/100 | Train Loss: 0.0001 | Val F1: 0.2480 | P: 0.1835 | R: 0.4043\n"
     ]
    },
    {
     "name": "stderr",
     "output_type": "stream",
     "text": [
      "Evaluating: 100%|██████████| 10/10 [00:01<00:00,  6.82it/s]\n"
     ]
    },
    {
     "name": "stdout",
     "output_type": "stream",
     "text": [
      "Epoch 91/100 | Train Loss: 0.0001 | Val F1: 0.2482 | P: 0.1836 | R: 0.4071\n"
     ]
    },
    {
     "name": "stderr",
     "output_type": "stream",
     "text": [
      "Evaluating: 100%|██████████| 10/10 [00:01<00:00,  6.82it/s]\n"
     ]
    },
    {
     "name": "stdout",
     "output_type": "stream",
     "text": [
      "Epoch 92/100 | Train Loss: 0.0001 | Val F1: 0.2656 | P: 0.1976 | R: 0.4303\n"
     ]
    },
    {
     "name": "stderr",
     "output_type": "stream",
     "text": [
      "Evaluating: 100%|██████████| 10/10 [00:01<00:00,  6.81it/s]\n"
     ]
    },
    {
     "name": "stdout",
     "output_type": "stream",
     "text": [
      "Epoch 93/100 | Train Loss: 0.0001 | Val F1: 0.2647 | P: 0.1969 | R: 0.4287\n"
     ]
    },
    {
     "name": "stderr",
     "output_type": "stream",
     "text": [
      "Evaluating: 100%|██████████| 10/10 [00:01<00:00,  6.81it/s]\n"
     ]
    },
    {
     "name": "stdout",
     "output_type": "stream",
     "text": [
      "Epoch 94/100 | Train Loss: 0.0001 | Val F1: 0.2524 | P: 0.1875 | R: 0.4131\n"
     ]
    },
    {
     "name": "stderr",
     "output_type": "stream",
     "text": [
      "Evaluating: 100%|██████████| 10/10 [00:01<00:00,  6.79it/s]\n"
     ]
    },
    {
     "name": "stdout",
     "output_type": "stream",
     "text": [
      "Epoch 95/100 | Train Loss: 0.0001 | Val F1: 0.2643 | P: 0.1969 | R: 0.4227\n"
     ]
    },
    {
     "name": "stderr",
     "output_type": "stream",
     "text": [
      "Evaluating: 100%|██████████| 10/10 [00:01<00:00,  6.82it/s]\n"
     ]
    },
    {
     "name": "stdout",
     "output_type": "stream",
     "text": [
      "Epoch 96/100 | Train Loss: 0.0001 | Val F1: 0.2619 | P: 0.1950 | R: 0.4195\n"
     ]
    },
    {
     "name": "stderr",
     "output_type": "stream",
     "text": [
      "Evaluating: 100%|██████████| 10/10 [00:01<00:00,  6.81it/s]\n"
     ]
    },
    {
     "name": "stdout",
     "output_type": "stream",
     "text": [
      "Epoch 97/100 | Train Loss: 0.0001 | Val F1: 0.2601 | P: 0.1934 | R: 0.4221\n"
     ]
    },
    {
     "name": "stderr",
     "output_type": "stream",
     "text": [
      "Evaluating: 100%|██████████| 10/10 [00:01<00:00,  6.80it/s]\n"
     ]
    },
    {
     "name": "stdout",
     "output_type": "stream",
     "text": [
      "Epoch 98/100 | Train Loss: 0.0001 | Val F1: 0.2637 | P: 0.1973 | R: 0.4183\n"
     ]
    },
    {
     "name": "stderr",
     "output_type": "stream",
     "text": [
      "Evaluating: 100%|██████████| 10/10 [00:01<00:00,  6.82it/s]\n"
     ]
    },
    {
     "name": "stdout",
     "output_type": "stream",
     "text": [
      "Epoch 99/100 | Train Loss: 0.0001 | Val F1: 0.2507 | P: 0.1859 | R: 0.4064\n"
     ]
    },
    {
     "name": "stderr",
     "output_type": "stream",
     "text": [
      "Evaluating: 100%|██████████| 10/10 [00:01<00:00,  6.80it/s]\n"
     ]
    },
    {
     "name": "stdout",
     "output_type": "stream",
     "text": [
      "Epoch 100/100 | Train Loss: 0.0001 | Val F1: 0.2519 | P: 0.1856 | R: 0.4114\n"
     ]
    },
    {
     "data": {
      "image/png": "[encoded data removed]",
      "text/plain": [
       "<Figure size 1200x500 with 2 Axes>"
      ]
     },
     "metadata": {},
     "output_type": "display_data"
    }
   ],
   "source": [
    "model = train(model=model,\n",
    "      idx2genre=idx2genre,\n",
    "      learning_rate=learning_rate,\n",
    "      num_epochs=num_epochs,\n",
    "      tokenizer=tokenizer,\n",
    "      train_loader=train_loader,\n",
    "      val_loader=val_loader,\n",
    "      device=device)"
   ]
  },
  {
   "cell_type": "code",
   "execution_count": 9,
   "id": "496b879c",
   "metadata": {},
   "outputs": [
    {
     "name": "stdout",
     "output_type": "stream",
     "text": [
      "\n",
      "Testing on test set (multi‑label):\n",
      "Predicted genres: None                           | Actual genres: r&b\n",
      "Predicted genres: pop                            | Actual genres: country\n",
      "Predicted genres: hip-hop                        | Actual genres: hip-hop\n",
      "Predicted genres: None                           | Actual genres: rock\n",
      "Predicted genres: pop                            | Actual genres: pop\n",
      "Predicted genres: pop                            | Actual genres: pop\n",
      "Predicted genres: None                           | Actual genres: hip-hop\n",
      "Predicted genres: None                           | Actual genres: hip-hop\n",
      "Predicted genres: None                           | Actual genres: electronic, pop\n",
      "Predicted genres: pop                            | Actual genres: pop\n",
      "Predicted genres: None                           | Actual genres: pop\n",
      "Predicted genres: hip-hop                        | Actual genres: hip-hop\n",
      "Predicted genres: hip-hop                        | Actual genres: hip-hop\n",
      "Predicted genres: hip-hop                        | Actual genres: hip-hop\n",
      "Predicted genres: None                           | Actual genres: pop\n",
      "Predicted genres: hip-hop                        | Actual genres: electronic, other, r&b\n",
      "Predicted genres: pop                            | Actual genres: rock\n",
      "Predicted genres: pop                            | Actual genres: rock\n",
      "Predicted genres: hip-hop                        | Actual genres: pop\n",
      "Predicted genres: rock                           | Actual genres: r&b\n",
      "Predicted genres: None                           | Actual genres: pop\n",
      "Predicted genres: hip-hop                        | Actual genres: hip-hop\n",
      "Predicted genres: pop                            | Actual genres: country\n",
      "Predicted genres: None                           | Actual genres: hip-hop\n",
      "Predicted genres: None                           | Actual genres: rock\n",
      "Predicted genres: None                           | Actual genres: country\n",
      "Predicted genres: None                           | Actual genres: pop\n",
      "Predicted genres: None                           | Actual genres: pop\n",
      "Predicted genres: pop                            | Actual genres: pop\n",
      "Predicted genres: hip-hop                        | Actual genres: hip-hop\n",
      "Predicted genres: pop                            | Actual genres: pop\n",
      "Predicted genres: None                           | Actual genres: pop\n",
      "Predicted genres: pop                            | Actual genres: r&b\n",
      "Predicted genres: None                           | Actual genres: pop\n",
      "Predicted genres: pop                            | Actual genres: rock\n",
      "Predicted genres: hip-hop                        | Actual genres: pop\n",
      "Predicted genres: hip-hop                        | Actual genres: hip-hop\n",
      "Predicted genres: pop                            | Actual genres: r&b\n",
      "Predicted genres: None                           | Actual genres: other\n",
      "Predicted genres: rock                           | Actual genres: r&b\n",
      "Predicted genres: None                           | Actual genres: rock\n",
      "Predicted genres: None                           | Actual genres: rock\n",
      "Predicted genres: pop                            | Actual genres: rock\n",
      "Predicted genres: None                           | Actual genres: rock\n",
      "Predicted genres: hip-hop                        | Actual genres: hip-hop\n",
      "Predicted genres: None                           | Actual genres: pop\n",
      "Predicted genres: None                           | Actual genres: pop\n",
      "Predicted genres: None                           | Actual genres: rock\n",
      "Predicted genres: rock                           | Actual genres: pop\n",
      "Predicted genres: hip-hop                        | Actual genres: r&b\n",
      "Predicted genres: rock                           | Actual genres: hip-hop\n",
      "Predicted genres: hip-hop                        | Actual genres: hip-hop\n",
      "Predicted genres: None                           | Actual genres: rock\n",
      "Predicted genres: pop                            | Actual genres: pop, rock\n",
      "Predicted genres: hip-hop                        | Actual genres: hip-hop\n",
      "Predicted genres: None                           | Actual genres: country\n",
      "Predicted genres: None                           | Actual genres: pop\n",
      "Predicted genres: pop                            | Actual genres: hip-hop\n",
      "Predicted genres: None                           | Actual genres: pop\n",
      "Predicted genres: None                           | Actual genres: electronic, pop\n",
      "Predicted genres: hip-hop                        | Actual genres: hip-hop\n",
      "Predicted genres: pop                            | Actual genres: hip-hop\n",
      "Predicted genres: pop                            | Actual genres: rock\n",
      "Predicted genres: None                           | Actual genres: rock\n",
      "Predicted genres: pop                            | Actual genres: pop\n",
      "Predicted genres: pop                            | Actual genres: rock\n",
      "Predicted genres: hip-hop                        | Actual genres: pop\n",
      "Predicted genres: None                           | Actual genres: pop\n",
      "Predicted genres: None                           | Actual genres: rock\n",
      "Predicted genres: None                           | Actual genres: hip-hop\n",
      "Predicted genres: pop                            | Actual genres: pop\n",
      "Predicted genres: rock                           | Actual genres: pop\n",
      "Predicted genres: pop                            | Actual genres: country\n",
      "Predicted genres: pop                            | Actual genres: pop\n",
      "Predicted genres: hip-hop                        | Actual genres: hip-hop\n",
      "Predicted genres: hip-hop                        | Actual genres: hip-hop\n",
      "Predicted genres: pop                            | Actual genres: metal, rock\n",
      "Predicted genres: rock                           | Actual genres: other\n",
      "Predicted genres: hip-hop                        | Actual genres: hip-hop\n",
      "Predicted genres: None                           | Actual genres: hip-hop\n",
      "Predicted genres: None                           | Actual genres: pop\n",
      "Predicted genres: hip-hop                        | Actual genres: rock\n",
      "Predicted genres: None                           | Actual genres: country\n",
      "Predicted genres: None                           | Actual genres: pop\n",
      "Predicted genres: hip-hop                        | Actual genres: hip-hop\n",
      "Predicted genres: other                          | Actual genres: country\n",
      "Predicted genres: pop                            | Actual genres: pop\n",
      "Predicted genres: pop, rock                      | Actual genres: pop\n",
      "Predicted genres: None                           | Actual genres: pop\n",
      "Predicted genres: hip-hop                        | Actual genres: hip-hop\n",
      "Predicted genres: None                           | Actual genres: r&b\n",
      "Predicted genres: hip-hop                        | Actual genres: hip-hop\n",
      "Predicted genres: None                           | Actual genres: pop\n",
      "Predicted genres: hip-hop                        | Actual genres: hip-hop\n",
      "Predicted genres: None                           | Actual genres: r&b\n",
      "Predicted genres: rock                           | Actual genres: r&b\n",
      "Predicted genres: None                           | Actual genres: rock\n",
      "Predicted genres: None                           | Actual genres: pop\n",
      "Predicted genres: rock                           | Actual genres: rock\n",
      "Predicted genres: pop                            | Actual genres: pop\n",
      "Predicted genres: None                           | Actual genres: hip-hop\n",
      "Predicted genres: hip-hop, pop                   | Actual genres: pop\n",
      "Predicted genres: rock                           | Actual genres: rock\n",
      "Predicted genres: hip-hop                        | Actual genres: hip-hop\n",
      "Predicted genres: None                           | Actual genres: hip-hop\n",
      "Predicted genres: None                           | Actual genres: other\n",
      "Predicted genres: None                           | Actual genres: pop\n",
      "Predicted genres: hip-hop                        | Actual genres: hip-hop\n",
      "Predicted genres: None                           | Actual genres: pop\n",
      "Predicted genres: hip-hop                        | Actual genres: hip-hop\n",
      "Predicted genres: hip-hop                        | Actual genres: electronic, hip-hop\n",
      "Predicted genres: hip-hop                        | Actual genres: hip-hop\n",
      "Predicted genres: None                           | Actual genres: pop\n",
      "Predicted genres: None                           | Actual genres: pop\n",
      "Predicted genres: pop                            | Actual genres: hip-hop\n",
      "Predicted genres: pop                            | Actual genres: hip-hop, rock\n",
      "Predicted genres: hip-hop                        | Actual genres: hip-hop\n",
      "Predicted genres: None                           | Actual genres: country\n",
      "Predicted genres: pop                            | Actual genres: rock\n",
      "Predicted genres: None                           | Actual genres: rock\n",
      "Predicted genres: None                           | Actual genres: pop\n",
      "Predicted genres: hip-hop                        | Actual genres: hip-hop\n",
      "Predicted genres: None                           | Actual genres: rock\n",
      "Predicted genres: pop                            | Actual genres: rock\n",
      "Predicted genres: pop                            | Actual genres: rock\n",
      "Predicted genres: pop                            | Actual genres: rock\n",
      "Predicted genres: None                           | Actual genres: pop\n",
      "Predicted genres: hip-hop                        | Actual genres: hip-hop\n",
      "Predicted genres: pop                            | Actual genres: pop\n",
      "Predicted genres: None                           | Actual genres: hip-hop\n",
      "Predicted genres: rock                           | Actual genres: rock\n",
      "Predicted genres: rock                           | Actual genres: other, pop, r&b\n",
      "Predicted genres: hip-hop                        | Actual genres: hip-hop\n",
      "Predicted genres: None                           | Actual genres: rock\n",
      "Predicted genres: None                           | Actual genres: pop\n",
      "Predicted genres: rock                           | Actual genres: hip-hop\n",
      "Predicted genres: pop                            | Actual genres: rock\n",
      "Predicted genres: None                           | Actual genres: metal, rock\n",
      "Predicted genres: hip-hop                        | Actual genres: hip-hop\n",
      "Predicted genres: hip-hop                        | Actual genres: hip-hop\n",
      "Predicted genres: hip-hop                        | Actual genres: electronic, other, r&b\n",
      "Predicted genres: pop                            | Actual genres: pop\n",
      "Predicted genres: hip-hop                        | Actual genres: hip-hop\n",
      "Predicted genres: hip-hop                        | Actual genres: rock\n",
      "Predicted genres: pop                            | Actual genres: country\n",
      "Predicted genres: None                           | Actual genres: rock\n",
      "Predicted genres: hip-hop                        | Actual genres: rock\n",
      "Predicted genres: pop                            | Actual genres: hip-hop\n",
      "Predicted genres: hip-hop                        | Actual genres: hip-hop\n",
      "Predicted genres: pop                            | Actual genres: pop\n"
     ]
    }
   ],
   "source": [
    "model.eval()\n",
    "threshold = 0.5\n",
    "\n",
    "print(\"\\nTesting on test set (multi‑label):\")\n",
    "with torch.no_grad():\n",
    "    for batch in test_loader:\n",
    "        input_ids = batch['input_ids'].to(device)\n",
    "        attention_mask = batch['attention_mask'].to(device)\n",
    "        true_multilabels = batch['labels']  # [B, num_labels]\n",
    "        \n",
    "        # forward через ваш MultiLabelClassifier\n",
    "        logits = model(input_ids, attention_mask)       # [B, num_labels]\n",
    "        probs  = torch.sigmoid(logits)                  # [B, num_labels]\n",
    "        preds  = (probs > threshold).long()             # [B, num_labels]\n",
    "        \n",
    "        for i in range(preds.size(0)):\n",
    "            # собираем списки жанров\n",
    "            pred_genres = [genres[j] for j, p in enumerate(preds[i]) if p == 1]\n",
    "            true_genres = [genres[j] for j, t in enumerate(true_multilabels[i]) if t == 1]\n",
    "            \n",
    "            pred_str = \", \".join(pred_genres) if pred_genres else \"None\"\n",
    "            true_str = \", \".join(true_genres) if true_genres else \"None\"\n",
    "            print(f\"Predicted genres: {pred_str:<30} | Actual genres: {true_str}\")\n",
    "\n"
   ]
  }
 ],
 "metadata": {
  "kaggle": {
   "accelerator": "nvidiaTeslaT4",
   "dataSources": [
    {
     "datasetId": 7511036,
     "sourceId": 11947470,
     "sourceType": "datasetVersion"
    }
   ],
   "dockerImageVersionId": 31041,
   "isGpuEnabled": true,
   "isInternetEnabled": true,
   "language": "python",
   "sourceType": "notebook"
  },
  "kernelspec": {
   "display_name": "genre-lyrics",
   "language": "python",
   "name": "python3"
  },
  "language_info": {
   "codemirror_mode": {
    "name": "ipython",
    "version": 3
   },
   "file_extension": ".py",
   "mimetype": "text/x-python",
   "name": "python",
   "nbconvert_exporter": "python",
   "pygments_lexer": "ipython3",
   "version": "3.10.13"
  }
 },
 "nbformat": 4,
 "nbformat_minor": 5
}
