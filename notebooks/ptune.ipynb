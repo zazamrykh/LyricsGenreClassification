{
 "cells": [
  {
   "cell_type": "markdown",
   "id": "554d005d",
   "metadata": {},
   "source": [
    "# Here we will use ptune learning method as baseline for genre classification"
   ]
  },
  {
   "cell_type": "code",
   "execution_count": 1,
   "id": "bf8912f4",
   "metadata": {},
   "outputs": [],
   "source": [
    "import sys\n",
    "import os\n",
    "\n",
    "sys.path.append(os.path.abspath('../'))"
   ]
  },
  {
   "cell_type": "code",
   "execution_count": 2,
   "id": "d40a909a",
   "metadata": {},
   "outputs": [
    {
     "name": "stderr",
     "output_type": "stream",
     "text": [
      "/home/super-pc2/miniconda3/envs/genre-lyrics/lib/python3.10/site-packages/tqdm/auto.py:21: TqdmWarning: IProgress not found. Please update jupyter and ipywidgets. See https://ipywidgets.readthedocs.io/en/stable/user_install.html\n",
      "  from .autonotebook import tqdm as notebook_tqdm\n"
     ]
    },
    {
     "data": {
      "text/plain": [
       "'cuda'"
      ]
     },
     "execution_count": 2,
     "metadata": {},
     "output_type": "execute_result"
    }
   ],
   "source": [
    "import numpy as np\n",
    "\n",
    "os.environ[\"PYTORCH_CUDA_ALLOC_CONF\"] = \"expandable_segments:True\"\n",
    "import torch\n",
    "torch.cuda.empty_cache()\n",
    "device = 'cuda' if torch.cuda.is_available() else 'cpu'\n",
    "\n",
    "from transformers import AutoModelForCausalLM, AutoTokenizer\n",
    "\n",
    "from src.utils import logger, DatasetTypes\n",
    "from src.data import init_data\n",
    "from src.ptune import prepare_ptune, train, MultiLabelClassifier\n",
    "from src.model import get_pretrained\n",
    "from sklearn.metrics import classification_report, f1_score, precision_score, recall_score\n",
    "import json\n",
    "import re\n",
    "# supported files in spython\n",
    "device"
   ]
  },
  {
   "cell_type": "code",
   "execution_count": 3,
   "id": "8c534801-2e02-4f0a-b96c-c488206b8bb0",
   "metadata": {
    "execution": {
     "iopub.execute_input": "2025-05-25T15:12:36.717018Z",
     "iopub.status.busy": "2025-05-25T15:12:36.715900Z",
     "iopub.status.idle": "2025-05-25T15:13:00.731483Z",
     "shell.execute_reply": "2025-05-25T15:13:00.730602Z",
     "shell.execute_reply.started": "2025-05-25T15:12:36.716983Z"
    },
    "trusted": true
   },
   "outputs": [],
   "source": [
    "model_name = \"Qwen/Qwen3-0.6B\"\n",
    "tokenizer, base_model = get_pretrained(model_name, device)"
   ]
  },
  {
   "cell_type": "markdown",
   "id": "72ad611e",
   "metadata": {},
   "source": [
    "## Get dataset with all genres and 1,294,054 examples"
   ]
  },
  {
   "cell_type": "code",
   "execution_count": 4,
   "id": "24290537",
   "metadata": {},
   "outputs": [],
   "source": [
    "path_to_csv = '../data/top_genres.csv'\n",
    "train_dataset, val_dataset, test_dataset , idx2genre, genres, train_loader, val_loader, test_loader = init_data(path_to_csv=path_to_csv, batch_size=16, tokenizer=tokenizer)"
   ]
  },
  {
   "cell_type": "code",
   "execution_count": 5,
   "id": "724e45a1",
   "metadata": {},
   "outputs": [
    {
     "name": "stdout",
     "output_type": "stream",
     "text": [
      "trainable params: 30,720 || all params: 596,080,640 || trainable%: 0.0052\n"
     ]
    }
   ],
   "source": [
    "peft_model = prepare_ptune(model=base_model, model_name=model_name, genres=genres, device=device)\n",
    "hidden_size = base_model.config.hidden_size\n",
    "num_labels = len(genres)\n",
    "model = MultiLabelClassifier(peft_model, hidden_size, num_labels).to(\"cuda\")"
   ]
  },
  {
   "cell_type": "code",
   "execution_count": 6,
   "id": "0cfaa4f6",
   "metadata": {},
   "outputs": [],
   "source": [
    "num_epochs = 100\n",
    "warmup_steps = 500\n",
    "learning_rate = 1e-4\n",
    "treshold = 0.3"
   ]
  },
  {
   "cell_type": "code",
   "execution_count": 7,
   "id": "4943e64e",
   "metadata": {},
   "outputs": [
    {
     "name": "stderr",
     "output_type": "stream",
     "text": [
      "`use_cache=True` is incompatible with gradient checkpointing. Setting `use_cache=False`.\n",
      "Evaluating: 100%|██████████| 10/10 [00:01<00:00,  6.90it/s]\n"
     ]
    },
    {
     "name": "stdout",
     "output_type": "stream",
     "text": [
      "Epoch 1/100 | Train Loss: 0.6385 | Val F1: 0.2018 | P: 0.1284 | R: 0.7500\n"
     ]
    },
    {
     "name": "stderr",
     "output_type": "stream",
     "text": [
      "Evaluating: 100%|██████████| 10/10 [00:01<00:00,  6.90it/s]\n"
     ]
    },
    {
     "name": "stdout",
     "output_type": "stream",
     "text": [
      "Epoch 2/100 | Train Loss: 0.4069 | Val F1: 0.2105 | P: 0.1359 | R: 0.5066\n"
     ]
    },
    {
     "name": "stderr",
     "output_type": "stream",
     "text": [
      "Evaluating: 100%|██████████| 10/10 [00:01<00:00,  6.91it/s]\n"
     ]
    },
    {
     "name": "stdout",
     "output_type": "stream",
     "text": [
      "Epoch 3/100 | Train Loss: 0.3234 | Val F1: 0.1863 | P: 0.1243 | R: 0.3868\n"
     ]
    },
    {
     "name": "stderr",
     "output_type": "stream",
     "text": [
      "Evaluating: 100%|██████████| 10/10 [00:01<00:00,  6.88it/s]\n"
     ]
    },
    {
     "name": "stdout",
     "output_type": "stream",
     "text": [
      "Epoch 4/100 | Train Loss: 0.2956 | Val F1: 0.2035 | P: 0.1384 | R: 0.3996\n"
     ]
    },
    {
     "name": "stderr",
     "output_type": "stream",
     "text": [
      "Evaluating: 100%|██████████| 10/10 [00:01<00:00,  6.87it/s]\n"
     ]
    },
    {
     "name": "stdout",
     "output_type": "stream",
     "text": [
      "Epoch 5/100 | Train Loss: 0.2815 | Val F1: 0.2234 | P: 0.1539 | R: 0.4235\n"
     ]
    },
    {
     "name": "stderr",
     "output_type": "stream",
     "text": [
      "Evaluating: 100%|██████████| 10/10 [00:01<00:00,  6.90it/s]\n"
     ]
    },
    {
     "name": "stdout",
     "output_type": "stream",
     "text": [
      "Epoch 6/100 | Train Loss: 0.2562 | Val F1: 0.2869 | P: 0.2633 | R: 0.4964\n"
     ]
    },
    {
     "name": "stderr",
     "output_type": "stream",
     "text": [
      "Evaluating: 100%|██████████| 10/10 [00:01<00:00,  6.86it/s]\n"
     ]
    },
    {
     "name": "stdout",
     "output_type": "stream",
     "text": [
      "Epoch 7/100 | Train Loss: 0.2431 | Val F1: 0.2351 | P: 0.1661 | R: 0.4242\n"
     ]
    },
    {
     "name": "stderr",
     "output_type": "stream",
     "text": [
      "Evaluating: 100%|██████████| 10/10 [00:01<00:00,  6.88it/s]\n"
     ]
    },
    {
     "name": "stdout",
     "output_type": "stream",
     "text": [
      "Epoch 8/100 | Train Loss: 0.2306 | Val F1: 0.2264 | P: 0.1833 | R: 0.3808\n"
     ]
    },
    {
     "name": "stderr",
     "output_type": "stream",
     "text": [
      "Evaluating: 100%|██████████| 10/10 [00:01<00:00,  6.87it/s]\n"
     ]
    },
    {
     "name": "stdout",
     "output_type": "stream",
     "text": [
      "Epoch 9/100 | Train Loss: 0.2150 | Val F1: 0.2755 | P: 0.2405 | R: 0.4272\n"
     ]
    },
    {
     "name": "stderr",
     "output_type": "stream",
     "text": [
      "Evaluating: 100%|██████████| 10/10 [00:01<00:00,  6.87it/s]\n"
     ]
    },
    {
     "name": "stdout",
     "output_type": "stream",
     "text": [
      "Epoch 10/100 | Train Loss: 0.1995 | Val F1: 0.2668 | P: 0.2053 | R: 0.4298\n"
     ]
    },
    {
     "name": "stderr",
     "output_type": "stream",
     "text": [
      "Evaluating: 100%|██████████| 10/10 [00:01<00:00,  6.87it/s]\n"
     ]
    },
    {
     "name": "stdout",
     "output_type": "stream",
     "text": [
      "Epoch 11/100 | Train Loss: 0.1905 | Val F1: 0.2648 | P: 0.2015 | R: 0.4254\n"
     ]
    },
    {
     "name": "stderr",
     "output_type": "stream",
     "text": [
      "Evaluating: 100%|██████████| 10/10 [00:01<00:00,  6.85it/s]\n"
     ]
    },
    {
     "name": "stdout",
     "output_type": "stream",
     "text": [
      "Epoch 12/100 | Train Loss: 0.1756 | Val F1: 0.2731 | P: 0.2160 | R: 0.4527\n"
     ]
    },
    {
     "name": "stderr",
     "output_type": "stream",
     "text": [
      "Evaluating: 100%|██████████| 10/10 [00:01<00:00,  6.85it/s]\n"
     ]
    },
    {
     "name": "stdout",
     "output_type": "stream",
     "text": [
      "Epoch 13/100 | Train Loss: 0.1596 | Val F1: 0.2429 | P: 0.1888 | R: 0.4180\n"
     ]
    },
    {
     "name": "stderr",
     "output_type": "stream",
     "text": [
      "Evaluating: 100%|██████████| 10/10 [00:01<00:00,  6.88it/s]\n"
     ]
    },
    {
     "name": "stdout",
     "output_type": "stream",
     "text": [
      "Epoch 14/100 | Train Loss: 0.1452 | Val F1: 0.2416 | P: 0.2021 | R: 0.3673\n"
     ]
    },
    {
     "name": "stderr",
     "output_type": "stream",
     "text": [
      "Evaluating: 100%|██████████| 10/10 [00:01<00:00,  6.87it/s]\n"
     ]
    },
    {
     "name": "stdout",
     "output_type": "stream",
     "text": [
      "Epoch 15/100 | Train Loss: 0.1357 | Val F1: 0.2575 | P: 0.1987 | R: 0.4033\n"
     ]
    },
    {
     "name": "stderr",
     "output_type": "stream",
     "text": [
      "Evaluating: 100%|██████████| 10/10 [00:01<00:00,  6.86it/s]\n"
     ]
    },
    {
     "name": "stdout",
     "output_type": "stream",
     "text": [
      "Epoch 16/100 | Train Loss: 0.1359 | Val F1: 0.2685 | P: 0.2017 | R: 0.4255\n"
     ]
    },
    {
     "name": "stderr",
     "output_type": "stream",
     "text": [
      "Evaluating: 100%|██████████| 10/10 [00:01<00:00,  6.86it/s]\n"
     ]
    },
    {
     "name": "stdout",
     "output_type": "stream",
     "text": [
      "Epoch 17/100 | Train Loss: 0.1150 | Val F1: 0.2611 | P: 0.2038 | R: 0.4070\n"
     ]
    },
    {
     "name": "stderr",
     "output_type": "stream",
     "text": [
      "Evaluating: 100%|██████████| 10/10 [00:01<00:00,  6.85it/s]\n"
     ]
    },
    {
     "name": "stdout",
     "output_type": "stream",
     "text": [
      "Epoch 18/100 | Train Loss: 0.1073 | Val F1: 0.2434 | P: 0.1970 | R: 0.3634\n"
     ]
    },
    {
     "name": "stderr",
     "output_type": "stream",
     "text": [
      "Evaluating: 100%|██████████| 10/10 [00:01<00:00,  6.87it/s]\n"
     ]
    },
    {
     "name": "stdout",
     "output_type": "stream",
     "text": [
      "Epoch 19/100 | Train Loss: 0.0932 | Val F1: 0.2846 | P: 0.2699 | R: 0.3771\n"
     ]
    },
    {
     "name": "stderr",
     "output_type": "stream",
     "text": [
      "Evaluating: 100%|██████████| 10/10 [00:01<00:00,  6.87it/s]\n"
     ]
    },
    {
     "name": "stdout",
     "output_type": "stream",
     "text": [
      "Epoch 20/100 | Train Loss: 0.0856 | Val F1: 0.2409 | P: 0.1794 | R: 0.3789\n"
     ]
    },
    {
     "name": "stderr",
     "output_type": "stream",
     "text": [
      "Evaluating: 100%|██████████| 10/10 [00:01<00:00,  6.86it/s]\n"
     ]
    },
    {
     "name": "stdout",
     "output_type": "stream",
     "text": [
      "Epoch 21/100 | Train Loss: 0.0728 | Val F1: 0.2602 | P: 0.2148 | R: 0.3744\n"
     ]
    },
    {
     "name": "stderr",
     "output_type": "stream",
     "text": [
      "Evaluating: 100%|██████████| 10/10 [00:01<00:00,  6.88it/s]\n"
     ]
    },
    {
     "name": "stdout",
     "output_type": "stream",
     "text": [
      "Epoch 22/100 | Train Loss: 0.0684 | Val F1: 0.2611 | P: 0.2260 | R: 0.3353\n"
     ]
    },
    {
     "name": "stderr",
     "output_type": "stream",
     "text": [
      "Evaluating: 100%|██████████| 10/10 [00:01<00:00,  6.86it/s]\n"
     ]
    },
    {
     "name": "stdout",
     "output_type": "stream",
     "text": [
      "Epoch 23/100 | Train Loss: 0.0595 | Val F1: 0.2486 | P: 0.2097 | R: 0.3491\n"
     ]
    },
    {
     "name": "stderr",
     "output_type": "stream",
     "text": [
      "Evaluating: 100%|██████████| 10/10 [00:01<00:00,  6.86it/s]\n"
     ]
    },
    {
     "name": "stdout",
     "output_type": "stream",
     "text": [
      "Epoch 24/100 | Train Loss: 0.0526 | Val F1: 0.2553 | P: 0.3094 | R: 0.3155\n"
     ]
    },
    {
     "name": "stderr",
     "output_type": "stream",
     "text": [
      "Evaluating: 100%|██████████| 10/10 [00:01<00:00,  6.87it/s]\n"
     ]
    },
    {
     "name": "stdout",
     "output_type": "stream",
     "text": [
      "Epoch 25/100 | Train Loss: 0.0485 | Val F1: 0.2571 | P: 0.2164 | R: 0.3267\n"
     ]
    },
    {
     "name": "stderr",
     "output_type": "stream",
     "text": [
      "Evaluating: 100%|██████████| 10/10 [00:01<00:00,  6.86it/s]\n"
     ]
    },
    {
     "name": "stdout",
     "output_type": "stream",
     "text": [
      "Epoch 26/100 | Train Loss: 0.0440 | Val F1: 0.2271 | P: 0.1929 | R: 0.2924\n"
     ]
    },
    {
     "name": "stderr",
     "output_type": "stream",
     "text": [
      "Evaluating: 100%|██████████| 10/10 [00:01<00:00,  6.85it/s]\n"
     ]
    },
    {
     "name": "stdout",
     "output_type": "stream",
     "text": [
      "Epoch 27/100 | Train Loss: 0.0390 | Val F1: 0.2255 | P: 0.1950 | R: 0.2796\n"
     ]
    },
    {
     "name": "stderr",
     "output_type": "stream",
     "text": [
      "Evaluating: 100%|██████████| 10/10 [00:01<00:00,  6.84it/s]\n"
     ]
    },
    {
     "name": "stdout",
     "output_type": "stream",
     "text": [
      "Epoch 28/100 | Train Loss: 0.0385 | Val F1: 0.2404 | P: 0.2220 | R: 0.2908\n"
     ]
    },
    {
     "name": "stderr",
     "output_type": "stream",
     "text": [
      "Evaluating: 100%|██████████| 10/10 [00:01<00:00,  6.85it/s]\n"
     ]
    },
    {
     "name": "stdout",
     "output_type": "stream",
     "text": [
      "Epoch 29/100 | Train Loss: 0.0308 | Val F1: 0.2543 | P: 0.2481 | R: 0.3223\n"
     ]
    },
    {
     "name": "stderr",
     "output_type": "stream",
     "text": [
      "Evaluating: 100%|██████████| 10/10 [00:01<00:00,  6.86it/s]\n"
     ]
    },
    {
     "name": "stdout",
     "output_type": "stream",
     "text": [
      "Epoch 30/100 | Train Loss: 0.0260 | Val F1: 0.2180 | P: 0.1814 | R: 0.2824\n"
     ]
    },
    {
     "name": "stderr",
     "output_type": "stream",
     "text": [
      "Evaluating: 100%|██████████| 10/10 [00:01<00:00,  6.87it/s]\n"
     ]
    },
    {
     "name": "stdout",
     "output_type": "stream",
     "text": [
      "Epoch 31/100 | Train Loss: 0.0232 | Val F1: 0.2664 | P: 0.2695 | R: 0.3184\n"
     ]
    },
    {
     "name": "stderr",
     "output_type": "stream",
     "text": [
      "Evaluating: 100%|██████████| 10/10 [00:01<00:00,  6.85it/s]\n"
     ]
    },
    {
     "name": "stdout",
     "output_type": "stream",
     "text": [
      "Epoch 32/100 | Train Loss: 0.0196 | Val F1: 0.2517 | P: 0.2679 | R: 0.2763\n"
     ]
    },
    {
     "name": "stderr",
     "output_type": "stream",
     "text": [
      "Evaluating: 100%|██████████| 10/10 [00:01<00:00,  6.85it/s]\n"
     ]
    },
    {
     "name": "stdout",
     "output_type": "stream",
     "text": [
      "Epoch 33/100 | Train Loss: 0.0285 | Val F1: 0.2260 | P: 0.1883 | R: 0.2937\n"
     ]
    },
    {
     "name": "stderr",
     "output_type": "stream",
     "text": [
      "Evaluating: 100%|██████████| 10/10 [00:01<00:00,  6.84it/s]\n"
     ]
    },
    {
     "name": "stdout",
     "output_type": "stream",
     "text": [
      "Epoch 34/100 | Train Loss: 0.0139 | Val F1: 0.2155 | P: 0.1826 | R: 0.2659\n"
     ]
    },
    {
     "name": "stderr",
     "output_type": "stream",
     "text": [
      "Evaluating: 100%|██████████| 10/10 [00:01<00:00,  6.85it/s]\n"
     ]
    },
    {
     "name": "stdout",
     "output_type": "stream",
     "text": [
      "Epoch 35/100 | Train Loss: 0.0124 | Val F1: 0.2333 | P: 0.2375 | R: 0.2753\n"
     ]
    },
    {
     "name": "stderr",
     "output_type": "stream",
     "text": [
      "Evaluating: 100%|██████████| 10/10 [00:01<00:00,  6.89it/s]\n"
     ]
    },
    {
     "name": "stdout",
     "output_type": "stream",
     "text": [
      "Epoch 36/100 | Train Loss: 0.0134 | Val F1: 0.2137 | P: 0.1836 | R: 0.2568\n"
     ]
    },
    {
     "name": "stderr",
     "output_type": "stream",
     "text": [
      "Evaluating: 100%|██████████| 10/10 [00:01<00:00,  6.86it/s]\n"
     ]
    },
    {
     "name": "stdout",
     "output_type": "stream",
     "text": [
      "Epoch 37/100 | Train Loss: 0.0134 | Val F1: 0.2119 | P: 0.1972 | R: 0.2365\n"
     ]
    },
    {
     "name": "stderr",
     "output_type": "stream",
     "text": [
      "Evaluating: 100%|██████████| 10/10 [00:01<00:00,  6.86it/s]\n"
     ]
    },
    {
     "name": "stdout",
     "output_type": "stream",
     "text": [
      "Epoch 38/100 | Train Loss: 0.0120 | Val F1: 0.2076 | P: 0.1796 | R: 0.2464\n"
     ]
    },
    {
     "name": "stderr",
     "output_type": "stream",
     "text": [
      "Evaluating: 100%|██████████| 10/10 [00:01<00:00,  6.85it/s]\n"
     ]
    },
    {
     "name": "stdout",
     "output_type": "stream",
     "text": [
      "Epoch 39/100 | Train Loss: 0.0150 | Val F1: 0.2039 | P: 0.1787 | R: 0.2384\n"
     ]
    },
    {
     "name": "stderr",
     "output_type": "stream",
     "text": [
      "Evaluating: 100%|██████████| 10/10 [00:01<00:00,  6.84it/s]\n"
     ]
    },
    {
     "name": "stdout",
     "output_type": "stream",
     "text": [
      "Epoch 40/100 | Train Loss: 0.0105 | Val F1: 0.2561 | P: 0.2454 | R: 0.2921\n"
     ]
    },
    {
     "name": "stderr",
     "output_type": "stream",
     "text": [
      "Evaluating: 100%|██████████| 10/10 [00:01<00:00,  6.85it/s]\n"
     ]
    },
    {
     "name": "stdout",
     "output_type": "stream",
     "text": [
      "Epoch 41/100 | Train Loss: 0.0064 | Val F1: 0.2072 | P: 0.1827 | R: 0.2414\n"
     ]
    },
    {
     "name": "stderr",
     "output_type": "stream",
     "text": [
      "Evaluating: 100%|██████████| 10/10 [00:01<00:00,  6.85it/s]\n"
     ]
    },
    {
     "name": "stdout",
     "output_type": "stream",
     "text": [
      "Epoch 42/100 | Train Loss: 0.0049 | Val F1: 0.2075 | P: 0.1829 | R: 0.2417\n"
     ]
    },
    {
     "name": "stderr",
     "output_type": "stream",
     "text": [
      "Evaluating: 100%|██████████| 10/10 [00:01<00:00,  6.87it/s]\n"
     ]
    },
    {
     "name": "stdout",
     "output_type": "stream",
     "text": [
      "Epoch 43/100 | Train Loss: 0.0067 | Val F1: 0.1952 | P: 0.1745 | R: 0.2225\n"
     ]
    },
    {
     "name": "stderr",
     "output_type": "stream",
     "text": [
      "Evaluating: 100%|██████████| 10/10 [00:01<00:00,  6.86it/s]\n"
     ]
    },
    {
     "name": "stdout",
     "output_type": "stream",
     "text": [
      "Epoch 44/100 | Train Loss: 0.0048 | Val F1: 0.2034 | P: 0.1846 | R: 0.2282\n"
     ]
    },
    {
     "name": "stderr",
     "output_type": "stream",
     "text": [
      "Evaluating: 100%|██████████| 10/10 [00:01<00:00,  6.83it/s]\n"
     ]
    },
    {
     "name": "stdout",
     "output_type": "stream",
     "text": [
      "Epoch 45/100 | Train Loss: 0.0030 | Val F1: 0.1969 | P: 0.1750 | R: 0.2263\n"
     ]
    },
    {
     "name": "stderr",
     "output_type": "stream",
     "text": [
      "Evaluating: 100%|██████████| 10/10 [00:01<00:00,  6.85it/s]\n"
     ]
    },
    {
     "name": "stdout",
     "output_type": "stream",
     "text": [
      "Epoch 46/100 | Train Loss: 0.0042 | Val F1: 0.2191 | P: 0.2220 | R: 0.2336\n"
     ]
    },
    {
     "name": "stderr",
     "output_type": "stream",
     "text": [
      "Evaluating: 100%|██████████| 10/10 [00:01<00:00,  6.85it/s]\n"
     ]
    },
    {
     "name": "stdout",
     "output_type": "stream",
     "text": [
      "Epoch 47/100 | Train Loss: 0.0028 | Val F1: 0.2482 | P: 0.2595 | R: 0.2591\n"
     ]
    },
    {
     "name": "stderr",
     "output_type": "stream",
     "text": [
      "Evaluating: 100%|██████████| 10/10 [00:01<00:00,  6.86it/s]\n"
     ]
    },
    {
     "name": "stdout",
     "output_type": "stream",
     "text": [
      "Epoch 48/100 | Train Loss: 0.0022 | Val F1: 0.1968 | P: 0.1838 | R: 0.2141\n"
     ]
    },
    {
     "name": "stderr",
     "output_type": "stream",
     "text": [
      "Evaluating: 100%|██████████| 10/10 [00:01<00:00,  6.86it/s]\n"
     ]
    },
    {
     "name": "stdout",
     "output_type": "stream",
     "text": [
      "Epoch 49/100 | Train Loss: 0.0024 | Val F1: 0.2088 | P: 0.1874 | R: 0.2364\n"
     ]
    },
    {
     "name": "stderr",
     "output_type": "stream",
     "text": [
      "Evaluating: 100%|██████████| 10/10 [00:01<00:00,  6.87it/s]\n"
     ]
    },
    {
     "name": "stdout",
     "output_type": "stream",
     "text": [
      "Epoch 50/100 | Train Loss: 0.0018 | Val F1: 0.2012 | P: 0.1822 | R: 0.2251\n"
     ]
    },
    {
     "name": "stderr",
     "output_type": "stream",
     "text": [
      "Evaluating: 100%|██████████| 10/10 [00:01<00:00,  6.85it/s]\n"
     ]
    },
    {
     "name": "stdout",
     "output_type": "stream",
     "text": [
      "Epoch 51/100 | Train Loss: 0.0011 | Val F1: 0.2112 | P: 0.1938 | R: 0.2333\n"
     ]
    },
    {
     "name": "stderr",
     "output_type": "stream",
     "text": [
      "Evaluating: 100%|██████████| 10/10 [00:01<00:00,  6.84it/s]\n"
     ]
    },
    {
     "name": "stdout",
     "output_type": "stream",
     "text": [
      "Epoch 52/100 | Train Loss: 0.0014 | Val F1: 0.2287 | P: 0.2283 | R: 0.2471\n"
     ]
    },
    {
     "name": "stderr",
     "output_type": "stream",
     "text": [
      "Evaluating: 100%|██████████| 10/10 [00:01<00:00,  6.85it/s]\n"
     ]
    },
    {
     "name": "stdout",
     "output_type": "stream",
     "text": [
      "Epoch 53/100 | Train Loss: 0.0018 | Val F1: 0.2004 | P: 0.1858 | R: 0.2191\n"
     ]
    },
    {
     "name": "stderr",
     "output_type": "stream",
     "text": [
      "Evaluating: 100%|██████████| 10/10 [00:01<00:00,  6.86it/s]\n"
     ]
    },
    {
     "name": "stdout",
     "output_type": "stream",
     "text": [
      "Epoch 54/100 | Train Loss: 0.0011 | Val F1: 0.2055 | P: 0.1916 | R: 0.2222\n"
     ]
    },
    {
     "name": "stderr",
     "output_type": "stream",
     "text": [
      "Evaluating: 100%|██████████| 10/10 [00:01<00:00,  6.86it/s]\n"
     ]
    },
    {
     "name": "stdout",
     "output_type": "stream",
     "text": [
      "Epoch 55/100 | Train Loss: 0.0011 | Val F1: 0.2148 | P: 0.1936 | R: 0.2430\n"
     ]
    },
    {
     "name": "stderr",
     "output_type": "stream",
     "text": [
      "Evaluating: 100%|██████████| 10/10 [00:01<00:00,  6.83it/s]\n"
     ]
    },
    {
     "name": "stdout",
     "output_type": "stream",
     "text": [
      "Epoch 56/100 | Train Loss: 0.0011 | Val F1: 0.2052 | P: 0.1846 | R: 0.2326\n"
     ]
    },
    {
     "name": "stderr",
     "output_type": "stream",
     "text": [
      "Evaluating: 100%|██████████| 10/10 [00:01<00:00,  6.86it/s]\n"
     ]
    },
    {
     "name": "stdout",
     "output_type": "stream",
     "text": [
      "Epoch 57/100 | Train Loss: 0.0009 | Val F1: 0.2186 | P: 0.1996 | R: 0.2424\n"
     ]
    },
    {
     "name": "stderr",
     "output_type": "stream",
     "text": [
      "Evaluating: 100%|██████████| 10/10 [00:01<00:00,  6.85it/s]\n"
     ]
    },
    {
     "name": "stdout",
     "output_type": "stream",
     "text": [
      "Epoch 58/100 | Train Loss: 0.0009 | Val F1: 0.2075 | P: 0.1901 | R: 0.2288\n"
     ]
    },
    {
     "name": "stderr",
     "output_type": "stream",
     "text": [
      "Evaluating: 100%|██████████| 10/10 [00:01<00:00,  6.84it/s]\n"
     ]
    },
    {
     "name": "stdout",
     "output_type": "stream",
     "text": [
      "Epoch 59/100 | Train Loss: 0.0009 | Val F1: 0.2268 | P: 0.2292 | R: 0.2411\n"
     ]
    },
    {
     "name": "stderr",
     "output_type": "stream",
     "text": [
      "Evaluating: 100%|██████████| 10/10 [00:01<00:00,  6.81it/s]\n"
     ]
    },
    {
     "name": "stdout",
     "output_type": "stream",
     "text": [
      "Epoch 60/100 | Train Loss: 0.0007 | Val F1: 0.2099 | P: 0.1913 | R: 0.2359\n"
     ]
    },
    {
     "name": "stderr",
     "output_type": "stream",
     "text": [
      "Evaluating: 100%|██████████| 10/10 [00:01<00:00,  6.83it/s]\n"
     ]
    },
    {
     "name": "stdout",
     "output_type": "stream",
     "text": [
      "Epoch 61/100 | Train Loss: 0.0009 | Val F1: 0.2040 | P: 0.1903 | R: 0.2213\n"
     ]
    },
    {
     "name": "stderr",
     "output_type": "stream",
     "text": [
      "Evaluating: 100%|██████████| 10/10 [00:01<00:00,  6.86it/s]\n"
     ]
    },
    {
     "name": "stdout",
     "output_type": "stream",
     "text": [
      "Epoch 62/100 | Train Loss: 0.0005 | Val F1: 0.2267 | P: 0.2203 | R: 0.2426\n"
     ]
    },
    {
     "name": "stderr",
     "output_type": "stream",
     "text": [
      "Evaluating: 100%|██████████| 10/10 [00:01<00:00,  6.86it/s]\n"
     ]
    },
    {
     "name": "stdout",
     "output_type": "stream",
     "text": [
      "Epoch 63/100 | Train Loss: 0.0006 | Val F1: 0.2118 | P: 0.1984 | R: 0.2283\n"
     ]
    },
    {
     "name": "stderr",
     "output_type": "stream",
     "text": [
      "Evaluating: 100%|██████████| 10/10 [00:01<00:00,  6.85it/s]\n"
     ]
    },
    {
     "name": "stdout",
     "output_type": "stream",
     "text": [
      "Epoch 64/100 | Train Loss: 0.0005 | Val F1: 0.2257 | P: 0.2230 | R: 0.2362\n"
     ]
    },
    {
     "name": "stderr",
     "output_type": "stream",
     "text": [
      "Evaluating: 100%|██████████| 10/10 [00:01<00:00,  6.87it/s]\n"
     ]
    },
    {
     "name": "stdout",
     "output_type": "stream",
     "text": [
      "Epoch 65/100 | Train Loss: 0.0005 | Val F1: 0.1988 | P: 0.1810 | R: 0.2213\n"
     ]
    },
    {
     "name": "stderr",
     "output_type": "stream",
     "text": [
      "Evaluating: 100%|██████████| 10/10 [00:01<00:00,  6.85it/s]\n"
     ]
    },
    {
     "name": "stdout",
     "output_type": "stream",
     "text": [
      "Epoch 66/100 | Train Loss: 0.0005 | Val F1: 0.2002 | P: 0.1823 | R: 0.2229\n"
     ]
    },
    {
     "name": "stderr",
     "output_type": "stream",
     "text": [
      "Evaluating: 100%|██████████| 10/10 [00:01<00:00,  6.84it/s]\n"
     ]
    },
    {
     "name": "stdout",
     "output_type": "stream",
     "text": [
      "Epoch 67/100 | Train Loss: 0.0004 | Val F1: 0.2305 | P: 0.2260 | R: 0.2435\n"
     ]
    },
    {
     "name": "stderr",
     "output_type": "stream",
     "text": [
      "Evaluating: 100%|██████████| 10/10 [00:01<00:00,  6.85it/s]\n"
     ]
    },
    {
     "name": "stdout",
     "output_type": "stream",
     "text": [
      "Epoch 68/100 | Train Loss: 0.0005 | Val F1: 0.2021 | P: 0.1857 | R: 0.2222\n"
     ]
    },
    {
     "name": "stderr",
     "output_type": "stream",
     "text": [
      "Evaluating: 100%|██████████| 10/10 [00:01<00:00,  6.86it/s]\n"
     ]
    },
    {
     "name": "stdout",
     "output_type": "stream",
     "text": [
      "Epoch 69/100 | Train Loss: 0.0005 | Val F1: 0.2306 | P: 0.2337 | R: 0.2428\n"
     ]
    },
    {
     "name": "stderr",
     "output_type": "stream",
     "text": [
      "Evaluating: 100%|██████████| 10/10 [00:01<00:00,  6.88it/s]\n"
     ]
    },
    {
     "name": "stdout",
     "output_type": "stream",
     "text": [
      "Epoch 70/100 | Train Loss: 0.0005 | Val F1: 0.2371 | P: 0.2408 | R: 0.2483\n"
     ]
    },
    {
     "name": "stderr",
     "output_type": "stream",
     "text": [
      "Evaluating: 100%|██████████| 10/10 [00:01<00:00,  6.87it/s]\n"
     ]
    },
    {
     "name": "stdout",
     "output_type": "stream",
     "text": [
      "Epoch 71/100 | Train Loss: 0.0004 | Val F1: 0.2107 | P: 0.1971 | R: 0.2269\n"
     ]
    },
    {
     "name": "stderr",
     "output_type": "stream",
     "text": [
      "Evaluating: 100%|██████████| 10/10 [00:01<00:00,  6.86it/s]\n"
     ]
    },
    {
     "name": "stdout",
     "output_type": "stream",
     "text": [
      "Epoch 72/100 | Train Loss: 0.0005 | Val F1: 0.2059 | P: 0.1902 | R: 0.2251\n"
     ]
    },
    {
     "name": "stderr",
     "output_type": "stream",
     "text": [
      "Evaluating: 100%|██████████| 10/10 [00:01<00:00,  6.85it/s]\n"
     ]
    },
    {
     "name": "stdout",
     "output_type": "stream",
     "text": [
      "Epoch 73/100 | Train Loss: 0.0004 | Val F1: 0.2121 | P: 0.1953 | R: 0.2333\n"
     ]
    },
    {
     "name": "stderr",
     "output_type": "stream",
     "text": [
      "Evaluating: 100%|██████████| 10/10 [00:01<00:00,  6.85it/s]\n"
     ]
    },
    {
     "name": "stdout",
     "output_type": "stream",
     "text": [
      "Epoch 74/100 | Train Loss: 0.0004 | Val F1: 0.2002 | P: 0.1873 | R: 0.2156\n"
     ]
    },
    {
     "name": "stderr",
     "output_type": "stream",
     "text": [
      "Evaluating: 100%|██████████| 10/10 [00:01<00:00,  6.85it/s]\n"
     ]
    },
    {
     "name": "stdout",
     "output_type": "stream",
     "text": [
      "Epoch 75/100 | Train Loss: 0.0003 | Val F1: 0.2057 | P: 0.1944 | R: 0.2184\n"
     ]
    },
    {
     "name": "stderr",
     "output_type": "stream",
     "text": [
      "Evaluating: 100%|██████████| 10/10 [00:01<00:00,  6.86it/s]\n"
     ]
    },
    {
     "name": "stdout",
     "output_type": "stream",
     "text": [
      "Epoch 76/100 | Train Loss: 0.0004 | Val F1: 0.2087 | P: 0.1986 | R: 0.2207\n"
     ]
    },
    {
     "name": "stderr",
     "output_type": "stream",
     "text": [
      "Evaluating: 100%|██████████| 10/10 [00:01<00:00,  6.87it/s]\n"
     ]
    },
    {
     "name": "stdout",
     "output_type": "stream",
     "text": [
      "Epoch 77/100 | Train Loss: 0.0004 | Val F1: 0.2076 | P: 0.1929 | R: 0.2251\n"
     ]
    },
    {
     "name": "stderr",
     "output_type": "stream",
     "text": [
      "Evaluating: 100%|██████████| 10/10 [00:01<00:00,  6.86it/s]\n"
     ]
    },
    {
     "name": "stdout",
     "output_type": "stream",
     "text": [
      "Epoch 78/100 | Train Loss: 0.0004 | Val F1: 0.2022 | P: 0.1885 | R: 0.2184\n"
     ]
    },
    {
     "name": "stderr",
     "output_type": "stream",
     "text": [
      "Evaluating: 100%|██████████| 10/10 [00:01<00:00,  6.87it/s]\n"
     ]
    },
    {
     "name": "stdout",
     "output_type": "stream",
     "text": [
      "Epoch 79/100 | Train Loss: 0.0003 | Val F1: 0.2248 | P: 0.2316 | R: 0.2326\n"
     ]
    },
    {
     "name": "stderr",
     "output_type": "stream",
     "text": [
      "Evaluating: 100%|██████████| 10/10 [00:01<00:00,  6.85it/s]\n"
     ]
    },
    {
     "name": "stdout",
     "output_type": "stream",
     "text": [
      "Epoch 80/100 | Train Loss: 0.0003 | Val F1: 0.2083 | P: 0.1948 | R: 0.2244\n"
     ]
    },
    {
     "name": "stderr",
     "output_type": "stream",
     "text": [
      "Evaluating: 100%|██████████| 10/10 [00:01<00:00,  6.86it/s]\n"
     ]
    },
    {
     "name": "stdout",
     "output_type": "stream",
     "text": [
      "Epoch 81/100 | Train Loss: 0.0003 | Val F1: 0.2027 | P: 0.1897 | R: 0.2177\n"
     ]
    },
    {
     "name": "stderr",
     "output_type": "stream",
     "text": [
      "Evaluating: 100%|██████████| 10/10 [00:01<00:00,  6.82it/s]\n"
     ]
    },
    {
     "name": "stdout",
     "output_type": "stream",
     "text": [
      "Epoch 82/100 | Train Loss: 0.0003 | Val F1: 0.2019 | P: 0.1860 | R: 0.2213\n"
     ]
    },
    {
     "name": "stderr",
     "output_type": "stream",
     "text": [
      "Evaluating: 100%|██████████| 10/10 [00:01<00:00,  6.86it/s]\n"
     ]
    },
    {
     "name": "stdout",
     "output_type": "stream",
     "text": [
      "Epoch 83/100 | Train Loss: 0.0004 | Val F1: 0.2283 | P: 0.2314 | R: 0.2405\n"
     ]
    },
    {
     "name": "stderr",
     "output_type": "stream",
     "text": [
      "Evaluating: 100%|██████████| 10/10 [00:01<00:00,  6.85it/s]\n"
     ]
    },
    {
     "name": "stdout",
     "output_type": "stream",
     "text": [
      "Epoch 84/100 | Train Loss: 0.0003 | Val F1: 0.2163 | P: 0.2130 | R: 0.2274\n"
     ]
    },
    {
     "name": "stderr",
     "output_type": "stream",
     "text": [
      "Evaluating: 100%|██████████| 10/10 [00:01<00:00,  6.84it/s]\n"
     ]
    },
    {
     "name": "stdout",
     "output_type": "stream",
     "text": [
      "Epoch 85/100 | Train Loss: 0.0003 | Val F1: 0.2062 | P: 0.1890 | R: 0.2272\n"
     ]
    },
    {
     "name": "stderr",
     "output_type": "stream",
     "text": [
      "Evaluating: 100%|██████████| 10/10 [00:01<00:00,  6.85it/s]\n"
     ]
    },
    {
     "name": "stdout",
     "output_type": "stream",
     "text": [
      "Epoch 86/100 | Train Loss: 0.0003 | Val F1: 0.2078 | P: 0.1937 | R: 0.2251\n"
     ]
    },
    {
     "name": "stderr",
     "output_type": "stream",
     "text": [
      "Evaluating: 100%|██████████| 10/10 [00:01<00:00,  6.86it/s]\n"
     ]
    },
    {
     "name": "stdout",
     "output_type": "stream",
     "text": [
      "Epoch 87/100 | Train Loss: 0.0003 | Val F1: 0.2343 | P: 0.2396 | R: 0.2440\n"
     ]
    },
    {
     "name": "stderr",
     "output_type": "stream",
     "text": [
      "Evaluating: 100%|██████████| 10/10 [00:01<00:00,  6.84it/s]\n"
     ]
    },
    {
     "name": "stdout",
     "output_type": "stream",
     "text": [
      "Epoch 88/100 | Train Loss: 0.0003 | Val F1: 0.2056 | P: 0.1911 | R: 0.2234\n"
     ]
    },
    {
     "name": "stderr",
     "output_type": "stream",
     "text": [
      "Evaluating: 100%|██████████| 10/10 [00:01<00:00,  6.83it/s]\n"
     ]
    },
    {
     "name": "stdout",
     "output_type": "stream",
     "text": [
      "Epoch 89/100 | Train Loss: 0.0003 | Val F1: 0.2047 | P: 0.1954 | R: 0.2153\n"
     ]
    },
    {
     "name": "stderr",
     "output_type": "stream",
     "text": [
      "Evaluating: 100%|██████████| 10/10 [00:01<00:00,  6.86it/s]\n"
     ]
    },
    {
     "name": "stdout",
     "output_type": "stream",
     "text": [
      "Epoch 90/100 | Train Loss: 0.0003 | Val F1: 0.2060 | P: 0.1913 | R: 0.2241\n"
     ]
    },
    {
     "name": "stderr",
     "output_type": "stream",
     "text": [
      "Evaluating: 100%|██████████| 10/10 [00:01<00:00,  6.86it/s]\n"
     ]
    },
    {
     "name": "stdout",
     "output_type": "stream",
     "text": [
      "Epoch 91/100 | Train Loss: 0.0003 | Val F1: 0.2014 | P: 0.1865 | R: 0.2196\n"
     ]
    },
    {
     "name": "stderr",
     "output_type": "stream",
     "text": [
      "Evaluating: 100%|██████████| 10/10 [00:01<00:00,  6.84it/s]\n"
     ]
    },
    {
     "name": "stdout",
     "output_type": "stream",
     "text": [
      "Epoch 92/100 | Train Loss: 0.0003 | Val F1: 0.1985 | P: 0.1842 | R: 0.2156\n"
     ]
    },
    {
     "name": "stderr",
     "output_type": "stream",
     "text": [
      "Evaluating: 100%|██████████| 10/10 [00:01<00:00,  6.87it/s]\n"
     ]
    },
    {
     "name": "stdout",
     "output_type": "stream",
     "text": [
      "Epoch 93/100 | Train Loss: 0.0003 | Val F1: 0.2239 | P: 0.2180 | R: 0.2384\n"
     ]
    },
    {
     "name": "stderr",
     "output_type": "stream",
     "text": [
      "Evaluating: 100%|██████████| 10/10 [00:01<00:00,  6.84it/s]\n"
     ]
    },
    {
     "name": "stdout",
     "output_type": "stream",
     "text": [
      "Epoch 94/100 | Train Loss: 0.0003 | Val F1: 0.2036 | P: 0.1894 | R: 0.2206\n"
     ]
    },
    {
     "name": "stderr",
     "output_type": "stream",
     "text": [
      "Evaluating: 100%|██████████| 10/10 [00:01<00:00,  6.86it/s]\n"
     ]
    },
    {
     "name": "stdout",
     "output_type": "stream",
     "text": [
      "Epoch 95/100 | Train Loss: 0.0003 | Val F1: 0.2260 | P: 0.2228 | R: 0.2376\n"
     ]
    },
    {
     "name": "stderr",
     "output_type": "stream",
     "text": [
      "Evaluating: 100%|██████████| 10/10 [00:01<00:00,  6.85it/s]\n"
     ]
    },
    {
     "name": "stdout",
     "output_type": "stream",
     "text": [
      "Epoch 96/100 | Train Loss: 0.0003 | Val F1: 0.2008 | P: 0.1864 | R: 0.2177\n"
     ]
    },
    {
     "name": "stderr",
     "output_type": "stream",
     "text": [
      "Evaluating: 100%|██████████| 10/10 [00:01<00:00,  6.87it/s]\n"
     ]
    },
    {
     "name": "stdout",
     "output_type": "stream",
     "text": [
      "Epoch 97/100 | Train Loss: 0.0003 | Val F1: 0.2034 | P: 0.1884 | R: 0.2213\n"
     ]
    },
    {
     "name": "stderr",
     "output_type": "stream",
     "text": [
      "Evaluating: 100%|██████████| 10/10 [00:01<00:00,  6.86it/s]\n"
     ]
    },
    {
     "name": "stdout",
     "output_type": "stream",
     "text": [
      "Epoch 98/100 | Train Loss: 0.0003 | Val F1: 0.2038 | P: 0.1910 | R: 0.2191\n"
     ]
    },
    {
     "name": "stderr",
     "output_type": "stream",
     "text": [
      "Evaluating: 100%|██████████| 10/10 [00:01<00:00,  6.87it/s]\n"
     ]
    },
    {
     "name": "stdout",
     "output_type": "stream",
     "text": [
      "Epoch 99/100 | Train Loss: 0.0003 | Val F1: 0.2070 | P: 0.1910 | R: 0.2272\n"
     ]
    },
    {
     "name": "stderr",
     "output_type": "stream",
     "text": [
      "Evaluating: 100%|██████████| 10/10 [00:01<00:00,  6.86it/s]\n"
     ]
    },
    {
     "name": "stdout",
     "output_type": "stream",
     "text": [
      "Epoch 100/100 | Train Loss: 0.0003 | Val F1: 0.2075 | P: 0.1922 | R: 0.2263\n"
     ]
    },
    {
     "data": {
      "image/png": "[encoded data removed]",
      "text/plain": [
       "<Figure size 1200x500 with 2 Axes>"
      ]
     },
     "metadata": {},
     "output_type": "display_data"
    }
   ],
   "source": [
    "model = train(model=model,\n",
    "      idx2genre=idx2genre,\n",
    "      learning_rate=learning_rate,\n",
    "      num_epochs=num_epochs,\n",
    "      tokenizer=tokenizer,\n",
    "      train_loader=train_loader,\n",
    "      val_loader=val_loader,\n",
    "      device=device)"
   ]
  },
  {
   "cell_type": "code",
   "execution_count": 8,
   "id": "496b879c",
   "metadata": {},
   "outputs": [
    {
     "name": "stdout",
     "output_type": "stream",
     "text": [
      "\n",
      "Testing on test set (multi‑label):\n",
      "Predicted genres: None                           | Actual genres: r&b\n",
      "Predicted genres: pop                            | Actual genres: country\n",
      "Predicted genres: hip-hop                        | Actual genres: hip-hop\n",
      "Predicted genres: rock                           | Actual genres: rock\n",
      "Predicted genres: pop                            | Actual genres: pop\n",
      "Predicted genres: pop                            | Actual genres: pop\n",
      "Predicted genres: pop                            | Actual genres: hip-hop\n",
      "Predicted genres: hip-hop                        | Actual genres: hip-hop\n",
      "Predicted genres: pop                            | Actual genres: electronic, pop\n",
      "Predicted genres: None                           | Actual genres: pop\n",
      "Predicted genres: None                           | Actual genres: pop\n",
      "Predicted genres: hip-hop                        | Actual genres: hip-hop\n",
      "Predicted genres: None                           | Actual genres: hip-hop\n",
      "Predicted genres: None                           | Actual genres: hip-hop\n",
      "Predicted genres: None                           | Actual genres: pop\n",
      "Predicted genres: pop                            | Actual genres: electronic, other, r&b\n",
      "Predicted genres: pop                            | Actual genres: rock\n",
      "Predicted genres: rock                           | Actual genres: rock\n",
      "Predicted genres: hip-hop                        | Actual genres: pop\n",
      "Predicted genres: rock                           | Actual genres: r&b\n",
      "Predicted genres: None                           | Actual genres: pop\n",
      "Predicted genres: None                           | Actual genres: hip-hop\n",
      "Predicted genres: pop                            | Actual genres: country\n",
      "Predicted genres: hip-hop                        | Actual genres: hip-hop\n",
      "Predicted genres: None                           | Actual genres: rock\n",
      "Predicted genres: pop                            | Actual genres: country\n",
      "Predicted genres: rock                           | Actual genres: pop\n",
      "Predicted genres: pop                            | Actual genres: pop\n",
      "Predicted genres: pop                            | Actual genres: pop\n",
      "Predicted genres: hip-hop                        | Actual genres: hip-hop\n",
      "Predicted genres: None                           | Actual genres: pop\n",
      "Predicted genres: None                           | Actual genres: pop\n",
      "Predicted genres: pop                            | Actual genres: r&b\n",
      "Predicted genres: None                           | Actual genres: pop\n",
      "Predicted genres: None                           | Actual genres: rock\n",
      "Predicted genres: hip-hop                        | Actual genres: pop\n",
      "Predicted genres: hip-hop                        | Actual genres: hip-hop\n",
      "Predicted genres: pop                            | Actual genres: r&b\n",
      "Predicted genres: other                          | Actual genres: other\n",
      "Predicted genres: rock                           | Actual genres: r&b\n",
      "Predicted genres: pop                            | Actual genres: rock\n",
      "Predicted genres: None                           | Actual genres: rock\n",
      "Predicted genres: pop                            | Actual genres: rock\n",
      "Predicted genres: None                           | Actual genres: rock\n",
      "Predicted genres: None                           | Actual genres: hip-hop\n",
      "Predicted genres: None                           | Actual genres: pop\n",
      "Predicted genres: None                           | Actual genres: pop\n",
      "Predicted genres: pop                            | Actual genres: rock\n",
      "Predicted genres: r&b                            | Actual genres: pop\n",
      "Predicted genres: hip-hop                        | Actual genres: r&b\n",
      "Predicted genres: pop                            | Actual genres: hip-hop\n",
      "Predicted genres: hip-hop                        | Actual genres: hip-hop\n",
      "Predicted genres: None                           | Actual genres: rock\n",
      "Predicted genres: pop                            | Actual genres: pop, rock\n",
      "Predicted genres: hip-hop                        | Actual genres: hip-hop\n",
      "Predicted genres: pop                            | Actual genres: country\n",
      "Predicted genres: None                           | Actual genres: pop\n",
      "Predicted genres: pop                            | Actual genres: hip-hop\n",
      "Predicted genres: rock                           | Actual genres: pop\n",
      "Predicted genres: None                           | Actual genres: electronic, pop\n",
      "Predicted genres: None                           | Actual genres: hip-hop\n",
      "Predicted genres: None                           | Actual genres: hip-hop\n",
      "Predicted genres: None                           | Actual genres: rock\n",
      "Predicted genres: hip-hop                        | Actual genres: rock\n",
      "Predicted genres: pop, rock                      | Actual genres: pop\n",
      "Predicted genres: pop                            | Actual genres: rock\n",
      "Predicted genres: hip-hop                        | Actual genres: pop\n",
      "Predicted genres: hip-hop                        | Actual genres: pop\n",
      "Predicted genres: None                           | Actual genres: rock\n",
      "Predicted genres: hip-hop, rock                  | Actual genres: hip-hop\n",
      "Predicted genres: pop                            | Actual genres: pop\n",
      "Predicted genres: None                           | Actual genres: pop\n",
      "Predicted genres: None                           | Actual genres: country\n",
      "Predicted genres: pop                            | Actual genres: pop\n",
      "Predicted genres: hip-hop                        | Actual genres: hip-hop\n",
      "Predicted genres: None                           | Actual genres: hip-hop\n",
      "Predicted genres: country, pop                   | Actual genres: metal, rock\n",
      "Predicted genres: rock                           | Actual genres: other\n",
      "Predicted genres: hip-hop                        | Actual genres: hip-hop\n",
      "Predicted genres: None                           | Actual genres: hip-hop\n",
      "Predicted genres: pop                            | Actual genres: pop\n",
      "Predicted genres: hip-hop, rock                  | Actual genres: rock\n",
      "Predicted genres: pop                            | Actual genres: country\n",
      "Predicted genres: None                           | Actual genres: pop\n",
      "Predicted genres: hip-hop                        | Actual genres: hip-hop\n",
      "Predicted genres: pop, rock                      | Actual genres: country\n",
      "Predicted genres: pop                            | Actual genres: pop\n",
      "Predicted genres: rock                           | Actual genres: pop\n",
      "Predicted genres: rock                           | Actual genres: pop\n",
      "Predicted genres: hip-hop                        | Actual genres: hip-hop\n",
      "Predicted genres: pop                            | Actual genres: r&b\n",
      "Predicted genres: hip-hop                        | Actual genres: hip-hop\n",
      "Predicted genres: pop                            | Actual genres: pop\n",
      "Predicted genres: hip-hop                        | Actual genres: hip-hop\n",
      "Predicted genres: pop                            | Actual genres: r&b\n",
      "Predicted genres: None                           | Actual genres: r&b\n",
      "Predicted genres: pop                            | Actual genres: rock\n",
      "Predicted genres: pop                            | Actual genres: pop\n",
      "Predicted genres: rock                           | Actual genres: rock\n",
      "Predicted genres: pop                            | Actual genres: pop\n",
      "Predicted genres: hip-hop                        | Actual genres: hip-hop\n",
      "Predicted genres: pop                            | Actual genres: pop\n",
      "Predicted genres: None                           | Actual genres: rock\n",
      "Predicted genres: hip-hop                        | Actual genres: hip-hop\n",
      "Predicted genres: pop                            | Actual genres: hip-hop\n",
      "Predicted genres: None                           | Actual genres: other\n",
      "Predicted genres: None                           | Actual genres: pop\n",
      "Predicted genres: hip-hop                        | Actual genres: hip-hop\n",
      "Predicted genres: hip-hop                        | Actual genres: pop\n",
      "Predicted genres: hip-hop                        | Actual genres: hip-hop\n",
      "Predicted genres: hip-hop, rock                  | Actual genres: electronic, hip-hop\n",
      "Predicted genres: hip-hop                        | Actual genres: hip-hop\n",
      "Predicted genres: None                           | Actual genres: pop\n",
      "Predicted genres: None                           | Actual genres: pop\n",
      "Predicted genres: pop                            | Actual genres: hip-hop\n",
      "Predicted genres: pop                            | Actual genres: hip-hop, rock\n",
      "Predicted genres: hip-hop                        | Actual genres: hip-hop\n",
      "Predicted genres: None                           | Actual genres: country\n",
      "Predicted genres: None                           | Actual genres: rock\n",
      "Predicted genres: pop                            | Actual genres: rock\n",
      "Predicted genres: pop                            | Actual genres: pop\n",
      "Predicted genres: None                           | Actual genres: hip-hop\n",
      "Predicted genres: rock                           | Actual genres: rock\n",
      "Predicted genres: hip-hop                        | Actual genres: rock\n",
      "Predicted genres: pop                            | Actual genres: rock\n",
      "Predicted genres: None                           | Actual genres: rock\n",
      "Predicted genres: None                           | Actual genres: pop\n",
      "Predicted genres: metal                          | Actual genres: hip-hop\n",
      "Predicted genres: None                           | Actual genres: pop\n",
      "Predicted genres: None                           | Actual genres: hip-hop\n",
      "Predicted genres: None                           | Actual genres: rock\n",
      "Predicted genres: hip-hop                        | Actual genres: other, pop, r&b\n",
      "Predicted genres: None                           | Actual genres: hip-hop\n",
      "Predicted genres: rock                           | Actual genres: rock\n",
      "Predicted genres: rock                           | Actual genres: pop\n",
      "Predicted genres: pop                            | Actual genres: hip-hop\n",
      "Predicted genres: None                           | Actual genres: rock\n",
      "Predicted genres: rock                           | Actual genres: metal, rock\n",
      "Predicted genres: hip-hop                        | Actual genres: hip-hop\n",
      "Predicted genres: hip-hop                        | Actual genres: hip-hop\n",
      "Predicted genres: hip-hop                        | Actual genres: electronic, other, r&b\n",
      "Predicted genres: None                           | Actual genres: pop\n",
      "Predicted genres: hip-hop                        | Actual genres: hip-hop\n",
      "Predicted genres: hip-hop                        | Actual genres: rock\n",
      "Predicted genres: pop                            | Actual genres: country\n",
      "Predicted genres: pop                            | Actual genres: rock\n",
      "Predicted genres: None                           | Actual genres: rock\n",
      "Predicted genres: pop                            | Actual genres: hip-hop\n",
      "Predicted genres: hip-hop                        | Actual genres: hip-hop\n",
      "Predicted genres: None                           | Actual genres: pop\n"
     ]
    }
   ],
   "source": [
    "model.eval()\n",
    "threshold = 0.5\n",
    "\n",
    "print(\"\\nTesting on test set (multi‑label):\")\n",
    "with torch.no_grad():\n",
    "    for batch in test_loader:\n",
    "        input_ids = batch['input_ids'].to(device)\n",
    "        attention_mask = batch['attention_mask'].to(device)\n",
    "        true_multilabels = batch['labels']  # [B, num_labels]\n",
    "        \n",
    "        # forward через ваш MultiLabelClassifier\n",
    "        logits = model(input_ids, attention_mask)       # [B, num_labels]\n",
    "        probs  = torch.sigmoid(logits)                  # [B, num_labels]\n",
    "        preds  = (probs > threshold).long()             # [B, num_labels]\n",
    "        \n",
    "        for i in range(preds.size(0)):\n",
    "            # собираем списки жанров\n",
    "            pred_genres = [genres[j] for j, p in enumerate(preds[i]) if p == 1]\n",
    "            true_genres = [genres[j] for j, t in enumerate(true_multilabels[i]) if t == 1]\n",
    "            \n",
    "            pred_str = \", \".join(pred_genres) if pred_genres else \"None\"\n",
    "            true_str = \", \".join(true_genres) if true_genres else \"None\"\n",
    "            print(f\"Predicted genres: {pred_str:<30} | Actual genres: {true_str}\")\n",
    "\n"
   ]
  }
 ],
 "metadata": {
  "kaggle": {
   "accelerator": "nvidiaTeslaT4",
   "dataSources": [
    {
     "datasetId": 7511036,
     "sourceId": 11947470,
     "sourceType": "datasetVersion"
    }
   ],
   "dockerImageVersionId": 31041,
   "isGpuEnabled": true,
   "isInternetEnabled": true,
   "language": "python",
   "sourceType": "notebook"
  },
  "kernelspec": {
   "display_name": "genre-lyrics",
   "language": "python",
   "name": "python3"
  },
  "language_info": {
   "codemirror_mode": {
    "name": "ipython",
    "version": 3
   },
   "file_extension": ".py",
   "mimetype": "text/x-python",
   "name": "python",
   "nbconvert_exporter": "python",
   "pygments_lexer": "ipython3",
   "version": "3.10.13"
  }
 },
 "nbformat": 4,
 "nbformat_minor": 5
}
