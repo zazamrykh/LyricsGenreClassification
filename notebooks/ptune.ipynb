{
 "cells": [
  {
   "cell_type": "markdown",
   "id": "554d005d",
   "metadata": {},
   "source": [
    "# Here we will use ptune learning method as baseline for genre classification\n"
   ]
  },
  {
   "cell_type": "code",
   "execution_count": 1,
   "id": "bf8912f4",
   "metadata": {},
   "outputs": [],
   "source": [
    "import sys\n",
    "import os\n",
    "\n",
    "sys.path.append(os.path.abspath('../'))"
   ]
  },
  {
   "cell_type": "code",
   "execution_count": 2,
   "id": "d40a909a",
   "metadata": {},
   "outputs": [
    {
     "name": "stderr",
     "output_type": "stream",
     "text": [
      "/home/super-pc2/miniconda3/envs/genre-lyrics/lib/python3.10/site-packages/tqdm/auto.py:21: TqdmWarning: IProgress not found. Please update jupyter and ipywidgets. See https://ipywidgets.readthedocs.io/en/stable/user_install.html\n",
      "  from .autonotebook import tqdm as notebook_tqdm\n"
     ]
    },
    {
     "data": {
      "text/plain": [
       "'cuda'"
      ]
     },
     "execution_count": 2,
     "metadata": {},
     "output_type": "execute_result"
    }
   ],
   "source": [
    "import numpy as np\n",
    "\n",
    "os.environ[\"PYTORCH_CUDA_ALLOC_CONF\"] = \"expandable_segments:True\"\n",
    "import torch\n",
    "torch.cuda.empty_cache()\n",
    "device = 'cuda' if torch.cuda.is_available() else 'cpu'\n",
    "\n",
    "from transformers import AutoModelForCausalLM, AutoTokenizer\n",
    "\n",
    "from src.utils import logger, DatasetTypes\n",
    "from src.data import init_data\n",
    "from src.ptune import prepare_ptune, train, MultiLabelClassifier\n",
    "from src.model import get_pretrained\n",
    "from sklearn.metrics import classification_report, f1_score, precision_score, recall_score\n",
    "import json\n",
    "import re\n",
    "# supported files in spython\n",
    "device"
   ]
  },
  {
   "cell_type": "code",
   "execution_count": 3,
   "id": "8c534801-2e02-4f0a-b96c-c488206b8bb0",
   "metadata": {
    "execution": {
     "iopub.execute_input": "2025-05-25T15:12:36.717018Z",
     "iopub.status.busy": "2025-05-25T15:12:36.715900Z",
     "iopub.status.idle": "2025-05-25T15:13:00.731483Z",
     "shell.execute_reply": "2025-05-25T15:13:00.730602Z",
     "shell.execute_reply.started": "2025-05-25T15:12:36.716983Z"
    },
    "trusted": true
   },
   "outputs": [],
   "source": [
    "model_name = \"Qwen/Qwen3-0.6B\"\n",
    "tokenizer, base_model = get_pretrained(model_name, device)"
   ]
  },
  {
   "cell_type": "markdown",
   "id": "72ad611e",
   "metadata": {},
   "source": [
    "## Get dataset with all genres and 1,294,054 examples"
   ]
  },
  {
   "cell_type": "code",
   "execution_count": 4,
   "id": "24290537",
   "metadata": {},
   "outputs": [],
   "source": [
    "path_to_csv = '../data/top_genres.csv'\n",
    "train_dataset, val_dataset, test_dataset , idx2genre, genres, train_loader, val_loader, test_loader = init_data(path_to_csv=path_to_csv, batch_size=16, tokenizer=tokenizer)"
   ]
  },
  {
   "cell_type": "code",
   "execution_count": 5,
   "id": "724e45a1",
   "metadata": {},
   "outputs": [
    {
     "name": "stdout",
     "output_type": "stream",
     "text": [
      "trainable params: 30,720 || all params: 596,080,640 || trainable%: 0.0052\n"
     ]
    }
   ],
   "source": [
    "peft_model = prepare_ptune(model=base_model, model_name=model_name, genres=genres, device=device)\n",
    "hidden_size = base_model.config.hidden_size\n",
    "num_labels = len(genres)\n",
    "model = MultiLabelClassifier(peft_model, hidden_size, num_labels).to(\"cuda\")"
   ]
  },
  {
   "cell_type": "code",
   "execution_count": 6,
   "id": "0cfaa4f6",
   "metadata": {},
   "outputs": [],
   "source": [
    "num_epochs = 100\n",
    "warmup_steps = 500\n",
    "learning_rate = 5e-5"
   ]
  },
  {
   "cell_type": "code",
   "execution_count": 7,
   "id": "4943e64e",
   "metadata": {},
   "outputs": [
    {
     "name": "stderr",
     "output_type": "stream",
     "text": [
      "`use_cache=True` is incompatible with gradient checkpointing. Setting `use_cache=False`.\n"
     ]
    },
    {
     "name": "stdout",
     "output_type": "stream",
     "text": [
      "Epoch 1/100 - Train loss: 1.0756\n",
      "Epoch 1/100 - Val macro F1: 0.1123, Label acc: 0.5350\n",
      "Epoch 2/100 - Train loss: 1.0617\n",
      "Epoch 2/100 - Val macro F1: 0.1206, Label acc: 0.5400\n",
      "Epoch 3/100 - Train loss: 1.0317\n",
      "Epoch 3/100 - Val macro F1: 0.1216, Label acc: 0.5525\n",
      "Epoch 4/100 - Train loss: 0.9797\n",
      "Epoch 4/100 - Val macro F1: 0.1155, Label acc: 0.5733\n",
      "Epoch 5/100 - Train loss: 0.8948\n",
      "Epoch 5/100 - Val macro F1: 0.1402, Label acc: 0.6100\n",
      "Epoch 6/100 - Train loss: 0.8016\n",
      "Epoch 6/100 - Val macro F1: 0.1409, Label acc: 0.6433\n",
      "Epoch 7/100 - Train loss: 0.7209\n",
      "Epoch 7/100 - Val macro F1: 0.1331, Label acc: 0.6575\n",
      "Epoch 8/100 - Train loss: 0.6438\n",
      "Epoch 8/100 - Val macro F1: 0.1353, Label acc: 0.6892\n",
      "Epoch 9/100 - Train loss: 0.5605\n",
      "Epoch 9/100 - Val macro F1: 0.1322, Label acc: 0.7283\n",
      "Epoch 10/100 - Train loss: 0.4886\n",
      "Epoch 10/100 - Val macro F1: 0.1313, Label acc: 0.7783\n",
      "Epoch 11/100 - Train loss: 0.4416\n",
      "Epoch 11/100 - Val macro F1: 0.1192, Label acc: 0.8033\n",
      "Epoch 12/100 - Train loss: 0.4069\n",
      "Epoch 12/100 - Val macro F1: 0.1128, Label acc: 0.8150\n",
      "Epoch 13/100 - Train loss: 0.3955\n",
      "Epoch 13/100 - Val macro F1: 0.1299, Label acc: 0.8233\n",
      "Epoch 14/100 - Train loss: 0.3844\n",
      "Epoch 14/100 - Val macro F1: 0.1397, Label acc: 0.8283\n",
      "Epoch 15/100 - Train loss: 0.3734\n",
      "Epoch 15/100 - Val macro F1: 0.1334, Label acc: 0.8350\n",
      "Epoch 16/100 - Train loss: 0.3608\n",
      "Epoch 16/100 - Val macro F1: 0.1343, Label acc: 0.8317\n",
      "Epoch 17/100 - Train loss: 0.3530\n",
      "Epoch 17/100 - Val macro F1: 0.1351, Label acc: 0.8333\n",
      "Epoch 18/100 - Train loss: 0.3489\n",
      "Epoch 18/100 - Val macro F1: 0.1496, Label acc: 0.8425\n",
      "Epoch 19/100 - Train loss: 0.3393\n",
      "Epoch 19/100 - Val macro F1: 0.1346, Label acc: 0.8333\n",
      "Epoch 20/100 - Train loss: 0.3330\n",
      "Epoch 20/100 - Val macro F1: 0.1462, Label acc: 0.8450\n",
      "Epoch 21/100 - Train loss: 0.3251\n",
      "Epoch 21/100 - Val macro F1: 0.1304, Label acc: 0.8383\n",
      "Epoch 22/100 - Train loss: 0.3217\n",
      "Epoch 22/100 - Val macro F1: 0.1423, Label acc: 0.8475\n",
      "Epoch 23/100 - Train loss: 0.3214\n",
      "Epoch 23/100 - Val macro F1: 0.1240, Label acc: 0.8375\n",
      "Epoch 24/100 - Train loss: 0.3140\n",
      "Epoch 24/100 - Val macro F1: 0.1230, Label acc: 0.8417\n",
      "Epoch 25/100 - Train loss: 0.3073\n",
      "Epoch 25/100 - Val macro F1: 0.1330, Label acc: 0.8467\n",
      "Epoch 26/100 - Train loss: 0.3060\n",
      "Epoch 26/100 - Val macro F1: 0.1253, Label acc: 0.8458\n",
      "Epoch 27/100 - Train loss: 0.3048\n",
      "Epoch 27/100 - Val macro F1: 0.1327, Label acc: 0.8400\n",
      "Epoch 28/100 - Train loss: 0.2960\n",
      "Epoch 28/100 - Val macro F1: 0.1284, Label acc: 0.8475\n",
      "Epoch 29/100 - Train loss: 0.2965\n",
      "Epoch 29/100 - Val macro F1: 0.1330, Label acc: 0.8450\n",
      "Epoch 30/100 - Train loss: 0.2920\n",
      "Epoch 30/100 - Val macro F1: 0.1381, Label acc: 0.8458\n",
      "Epoch 31/100 - Train loss: 0.2857\n",
      "Epoch 31/100 - Val macro F1: 0.1322, Label acc: 0.8450\n",
      "Epoch 32/100 - Train loss: 0.2836\n",
      "Epoch 32/100 - Val macro F1: 0.1400, Label acc: 0.8542\n",
      "Epoch 33/100 - Train loss: 0.2809\n",
      "Epoch 33/100 - Val macro F1: 0.1451, Label acc: 0.8542\n",
      "Epoch 34/100 - Train loss: 0.2749\n",
      "Epoch 34/100 - Val macro F1: 0.1422, Label acc: 0.8542\n",
      "Epoch 35/100 - Train loss: 0.2747\n",
      "Epoch 35/100 - Val macro F1: 0.1468, Label acc: 0.8433\n",
      "Epoch 36/100 - Train loss: 0.2699\n"
     ]
    },
    {
     "name": "stderr",
     "output_type": "stream",
     "text": [
      "/home/super-pc2/miniconda3/envs/genre-lyrics/lib/python3.10/site-packages/sklearn/metrics/_classification.py:1706: UndefinedMetricWarning: F-score is ill-defined and being set to 0.0 in labels with no true nor predicted samples. Use `zero_division` parameter to control this behavior.\n",
      "  _warn_prf(average, modifier, f\"{metric.capitalize()} is\", result.shape[0])\n"
     ]
    },
    {
     "name": "stdout",
     "output_type": "stream",
     "text": [
      "Epoch 36/100 - Val macro F1: 0.1486, Label acc: 0.8567\n",
      "Epoch 37/100 - Train loss: 0.2692\n",
      "Epoch 37/100 - Val macro F1: 0.1561, Label acc: 0.8508\n",
      "Epoch 38/100 - Train loss: 0.2709\n"
     ]
    },
    {
     "name": "stderr",
     "output_type": "stream",
     "text": [
      "/home/super-pc2/miniconda3/envs/genre-lyrics/lib/python3.10/site-packages/sklearn/metrics/_classification.py:1706: UndefinedMetricWarning: F-score is ill-defined and being set to 0.0 in labels with no true nor predicted samples. Use `zero_division` parameter to control this behavior.\n",
      "  _warn_prf(average, modifier, f\"{metric.capitalize()} is\", result.shape[0])\n"
     ]
    },
    {
     "name": "stdout",
     "output_type": "stream",
     "text": [
      "Epoch 38/100 - Val macro F1: 0.1506, Label acc: 0.8558\n",
      "Epoch 39/100 - Train loss: 0.2650\n"
     ]
    },
    {
     "name": "stderr",
     "output_type": "stream",
     "text": [
      "/home/super-pc2/miniconda3/envs/genre-lyrics/lib/python3.10/site-packages/sklearn/metrics/_classification.py:1706: UndefinedMetricWarning: F-score is ill-defined and being set to 0.0 in labels with no true nor predicted samples. Use `zero_division` parameter to control this behavior.\n",
      "  _warn_prf(average, modifier, f\"{metric.capitalize()} is\", result.shape[0])\n"
     ]
    },
    {
     "name": "stdout",
     "output_type": "stream",
     "text": [
      "Epoch 39/100 - Val macro F1: 0.1428, Label acc: 0.8517\n",
      "Epoch 40/100 - Train loss: 0.2641\n",
      "Epoch 40/100 - Val macro F1: 0.1538, Label acc: 0.8525\n",
      "Epoch 41/100 - Train loss: 0.2646\n"
     ]
    },
    {
     "name": "stderr",
     "output_type": "stream",
     "text": [
      "/home/super-pc2/miniconda3/envs/genre-lyrics/lib/python3.10/site-packages/sklearn/metrics/_classification.py:1706: UndefinedMetricWarning: F-score is ill-defined and being set to 0.0 in labels with no true nor predicted samples. Use `zero_division` parameter to control this behavior.\n",
      "  _warn_prf(average, modifier, f\"{metric.capitalize()} is\", result.shape[0])\n"
     ]
    },
    {
     "name": "stdout",
     "output_type": "stream",
     "text": [
      "Epoch 41/100 - Val macro F1: 0.1403, Label acc: 0.8550\n",
      "Epoch 42/100 - Train loss: 0.2564\n",
      "Epoch 42/100 - Val macro F1: 0.1559, Label acc: 0.8625\n",
      "Epoch 43/100 - Train loss: 0.2528\n",
      "Epoch 43/100 - Val macro F1: 0.1381, Label acc: 0.8500\n",
      "Epoch 44/100 - Train loss: 0.2493\n",
      "Epoch 44/100 - Val macro F1: 0.1406, Label acc: 0.8525\n",
      "Epoch 45/100 - Train loss: 0.2488\n"
     ]
    },
    {
     "name": "stderr",
     "output_type": "stream",
     "text": [
      "/home/super-pc2/miniconda3/envs/genre-lyrics/lib/python3.10/site-packages/sklearn/metrics/_classification.py:1706: UndefinedMetricWarning: F-score is ill-defined and being set to 0.0 in labels with no true nor predicted samples. Use `zero_division` parameter to control this behavior.\n",
      "  _warn_prf(average, modifier, f\"{metric.capitalize()} is\", result.shape[0])\n"
     ]
    },
    {
     "name": "stdout",
     "output_type": "stream",
     "text": [
      "Epoch 45/100 - Val macro F1: 0.1435, Label acc: 0.8550\n",
      "Epoch 46/100 - Train loss: 0.2436\n"
     ]
    },
    {
     "name": "stderr",
     "output_type": "stream",
     "text": [
      "/home/super-pc2/miniconda3/envs/genre-lyrics/lib/python3.10/site-packages/sklearn/metrics/_classification.py:1706: UndefinedMetricWarning: F-score is ill-defined and being set to 0.0 in labels with no true nor predicted samples. Use `zero_division` parameter to control this behavior.\n",
      "  _warn_prf(average, modifier, f\"{metric.capitalize()} is\", result.shape[0])\n"
     ]
    },
    {
     "name": "stdout",
     "output_type": "stream",
     "text": [
      "Epoch 46/100 - Val macro F1: 0.1559, Label acc: 0.8575\n",
      "Epoch 47/100 - Train loss: 0.2414\n"
     ]
    },
    {
     "name": "stderr",
     "output_type": "stream",
     "text": [
      "/home/super-pc2/miniconda3/envs/genre-lyrics/lib/python3.10/site-packages/sklearn/metrics/_classification.py:1706: UndefinedMetricWarning: F-score is ill-defined and being set to 0.0 in labels with no true nor predicted samples. Use `zero_division` parameter to control this behavior.\n",
      "  _warn_prf(average, modifier, f\"{metric.capitalize()} is\", result.shape[0])\n"
     ]
    },
    {
     "name": "stdout",
     "output_type": "stream",
     "text": [
      "Epoch 47/100 - Val macro F1: 0.1520, Label acc: 0.8558\n",
      "Epoch 48/100 - Train loss: 0.2397\n"
     ]
    },
    {
     "name": "stderr",
     "output_type": "stream",
     "text": [
      "/home/super-pc2/miniconda3/envs/genre-lyrics/lib/python3.10/site-packages/sklearn/metrics/_classification.py:1706: UndefinedMetricWarning: F-score is ill-defined and being set to 0.0 in labels with no true nor predicted samples. Use `zero_division` parameter to control this behavior.\n",
      "  _warn_prf(average, modifier, f\"{metric.capitalize()} is\", result.shape[0])\n"
     ]
    },
    {
     "name": "stdout",
     "output_type": "stream",
     "text": [
      "Epoch 48/100 - Val macro F1: 0.1574, Label acc: 0.8567\n",
      "Epoch 49/100 - Train loss: 0.2386\n"
     ]
    },
    {
     "name": "stderr",
     "output_type": "stream",
     "text": [
      "/home/super-pc2/miniconda3/envs/genre-lyrics/lib/python3.10/site-packages/sklearn/metrics/_classification.py:1706: UndefinedMetricWarning: F-score is ill-defined and being set to 0.0 in labels with no true nor predicted samples. Use `zero_division` parameter to control this behavior.\n",
      "  _warn_prf(average, modifier, f\"{metric.capitalize()} is\", result.shape[0])\n"
     ]
    },
    {
     "name": "stdout",
     "output_type": "stream",
     "text": [
      "Epoch 49/100 - Val macro F1: 0.1402, Label acc: 0.8508\n",
      "Epoch 50/100 - Train loss: 0.2357\n"
     ]
    },
    {
     "name": "stderr",
     "output_type": "stream",
     "text": [
      "/home/super-pc2/miniconda3/envs/genre-lyrics/lib/python3.10/site-packages/sklearn/metrics/_classification.py:1706: UndefinedMetricWarning: F-score is ill-defined and being set to 0.0 in labels with no true nor predicted samples. Use `zero_division` parameter to control this behavior.\n",
      "  _warn_prf(average, modifier, f\"{metric.capitalize()} is\", result.shape[0])\n"
     ]
    },
    {
     "name": "stdout",
     "output_type": "stream",
     "text": [
      "Epoch 50/100 - Val macro F1: 0.1361, Label acc: 0.8508\n",
      "Epoch 51/100 - Train loss: 0.2357\n"
     ]
    },
    {
     "name": "stderr",
     "output_type": "stream",
     "text": [
      "/home/super-pc2/miniconda3/envs/genre-lyrics/lib/python3.10/site-packages/sklearn/metrics/_classification.py:1706: UndefinedMetricWarning: F-score is ill-defined and being set to 0.0 in labels with no true nor predicted samples. Use `zero_division` parameter to control this behavior.\n",
      "  _warn_prf(average, modifier, f\"{metric.capitalize()} is\", result.shape[0])\n"
     ]
    },
    {
     "name": "stdout",
     "output_type": "stream",
     "text": [
      "Epoch 51/100 - Val macro F1: 0.1518, Label acc: 0.8600\n",
      "Epoch 52/100 - Train loss: 0.2322\n"
     ]
    },
    {
     "name": "stderr",
     "output_type": "stream",
     "text": [
      "/home/super-pc2/miniconda3/envs/genre-lyrics/lib/python3.10/site-packages/sklearn/metrics/_classification.py:1706: UndefinedMetricWarning: F-score is ill-defined and being set to 0.0 in labels with no true nor predicted samples. Use `zero_division` parameter to control this behavior.\n",
      "  _warn_prf(average, modifier, f\"{metric.capitalize()} is\", result.shape[0])\n"
     ]
    },
    {
     "name": "stdout",
     "output_type": "stream",
     "text": [
      "Epoch 52/100 - Val macro F1: 0.1447, Label acc: 0.8550\n",
      "Epoch 53/100 - Train loss: 0.2303\n",
      "Epoch 53/100 - Val macro F1: 0.1486, Label acc: 0.8550\n",
      "Epoch 54/100 - Train loss: 0.2292\n"
     ]
    },
    {
     "name": "stderr",
     "output_type": "stream",
     "text": [
      "/home/super-pc2/miniconda3/envs/genre-lyrics/lib/python3.10/site-packages/sklearn/metrics/_classification.py:1706: UndefinedMetricWarning: F-score is ill-defined and being set to 0.0 in labels with no true nor predicted samples. Use `zero_division` parameter to control this behavior.\n",
      "  _warn_prf(average, modifier, f\"{metric.capitalize()} is\", result.shape[0])\n"
     ]
    },
    {
     "name": "stdout",
     "output_type": "stream",
     "text": [
      "Epoch 54/100 - Val macro F1: 0.1493, Label acc: 0.8600\n",
      "Epoch 55/100 - Train loss: 0.2281\n"
     ]
    },
    {
     "name": "stderr",
     "output_type": "stream",
     "text": [
      "/home/super-pc2/miniconda3/envs/genre-lyrics/lib/python3.10/site-packages/sklearn/metrics/_classification.py:1706: UndefinedMetricWarning: F-score is ill-defined and being set to 0.0 in labels with no true nor predicted samples. Use `zero_division` parameter to control this behavior.\n",
      "  _warn_prf(average, modifier, f\"{metric.capitalize()} is\", result.shape[0])\n"
     ]
    },
    {
     "name": "stdout",
     "output_type": "stream",
     "text": [
      "Epoch 55/100 - Val macro F1: 0.1512, Label acc: 0.8567\n",
      "Epoch 56/100 - Train loss: 0.2248\n"
     ]
    },
    {
     "name": "stderr",
     "output_type": "stream",
     "text": [
      "/home/super-pc2/miniconda3/envs/genre-lyrics/lib/python3.10/site-packages/sklearn/metrics/_classification.py:1706: UndefinedMetricWarning: F-score is ill-defined and being set to 0.0 in labels with no true nor predicted samples. Use `zero_division` parameter to control this behavior.\n",
      "  _warn_prf(average, modifier, f\"{metric.capitalize()} is\", result.shape[0])\n"
     ]
    },
    {
     "name": "stdout",
     "output_type": "stream",
     "text": [
      "Epoch 56/100 - Val macro F1: 0.1489, Label acc: 0.8550\n",
      "Epoch 57/100 - Train loss: 0.2260\n"
     ]
    },
    {
     "name": "stderr",
     "output_type": "stream",
     "text": [
      "/home/super-pc2/miniconda3/envs/genre-lyrics/lib/python3.10/site-packages/sklearn/metrics/_classification.py:1706: UndefinedMetricWarning: F-score is ill-defined and being set to 0.0 in labels with no true nor predicted samples. Use `zero_division` parameter to control this behavior.\n",
      "  _warn_prf(average, modifier, f\"{metric.capitalize()} is\", result.shape[0])\n"
     ]
    },
    {
     "name": "stdout",
     "output_type": "stream",
     "text": [
      "Epoch 57/100 - Val macro F1: 0.1493, Label acc: 0.8550\n",
      "Epoch 58/100 - Train loss: 0.2226\n"
     ]
    },
    {
     "name": "stderr",
     "output_type": "stream",
     "text": [
      "/home/super-pc2/miniconda3/envs/genre-lyrics/lib/python3.10/site-packages/sklearn/metrics/_classification.py:1706: UndefinedMetricWarning: F-score is ill-defined and being set to 0.0 in labels with no true nor predicted samples. Use `zero_division` parameter to control this behavior.\n",
      "  _warn_prf(average, modifier, f\"{metric.capitalize()} is\", result.shape[0])\n"
     ]
    },
    {
     "name": "stdout",
     "output_type": "stream",
     "text": [
      "Epoch 58/100 - Val macro F1: 0.1551, Label acc: 0.8583\n",
      "Epoch 59/100 - Train loss: 0.2218\n"
     ]
    },
    {
     "name": "stderr",
     "output_type": "stream",
     "text": [
      "/home/super-pc2/miniconda3/envs/genre-lyrics/lib/python3.10/site-packages/sklearn/metrics/_classification.py:1706: UndefinedMetricWarning: F-score is ill-defined and being set to 0.0 in labels with no true nor predicted samples. Use `zero_division` parameter to control this behavior.\n",
      "  _warn_prf(average, modifier, f\"{metric.capitalize()} is\", result.shape[0])\n"
     ]
    },
    {
     "name": "stdout",
     "output_type": "stream",
     "text": [
      "Epoch 59/100 - Val macro F1: 0.1523, Label acc: 0.8592\n",
      "Epoch 60/100 - Train loss: 0.2206\n"
     ]
    },
    {
     "name": "stderr",
     "output_type": "stream",
     "text": [
      "/home/super-pc2/miniconda3/envs/genre-lyrics/lib/python3.10/site-packages/sklearn/metrics/_classification.py:1706: UndefinedMetricWarning: F-score is ill-defined and being set to 0.0 in labels with no true nor predicted samples. Use `zero_division` parameter to control this behavior.\n",
      "  _warn_prf(average, modifier, f\"{metric.capitalize()} is\", result.shape[0])\n"
     ]
    },
    {
     "name": "stdout",
     "output_type": "stream",
     "text": [
      "Epoch 60/100 - Val macro F1: 0.1554, Label acc: 0.8558\n",
      "Epoch 61/100 - Train loss: 0.2193\n"
     ]
    },
    {
     "name": "stderr",
     "output_type": "stream",
     "text": [
      "/home/super-pc2/miniconda3/envs/genre-lyrics/lib/python3.10/site-packages/sklearn/metrics/_classification.py:1706: UndefinedMetricWarning: F-score is ill-defined and being set to 0.0 in labels with no true nor predicted samples. Use `zero_division` parameter to control this behavior.\n",
      "  _warn_prf(average, modifier, f\"{metric.capitalize()} is\", result.shape[0])\n"
     ]
    },
    {
     "name": "stdout",
     "output_type": "stream",
     "text": [
      "Epoch 61/100 - Val macro F1: 0.1549, Label acc: 0.8583\n",
      "Epoch 62/100 - Train loss: 0.2186\n"
     ]
    },
    {
     "name": "stderr",
     "output_type": "stream",
     "text": [
      "/home/super-pc2/miniconda3/envs/genre-lyrics/lib/python3.10/site-packages/sklearn/metrics/_classification.py:1706: UndefinedMetricWarning: F-score is ill-defined and being set to 0.0 in labels with no true nor predicted samples. Use `zero_division` parameter to control this behavior.\n",
      "  _warn_prf(average, modifier, f\"{metric.capitalize()} is\", result.shape[0])\n"
     ]
    },
    {
     "name": "stdout",
     "output_type": "stream",
     "text": [
      "Epoch 62/100 - Val macro F1: 0.1535, Label acc: 0.8592\n",
      "Epoch 63/100 - Train loss: 0.2167\n"
     ]
    },
    {
     "name": "stderr",
     "output_type": "stream",
     "text": [
      "/home/super-pc2/miniconda3/envs/genre-lyrics/lib/python3.10/site-packages/sklearn/metrics/_classification.py:1706: UndefinedMetricWarning: F-score is ill-defined and being set to 0.0 in labels with no true nor predicted samples. Use `zero_division` parameter to control this behavior.\n",
      "  _warn_prf(average, modifier, f\"{metric.capitalize()} is\", result.shape[0])\n"
     ]
    },
    {
     "name": "stdout",
     "output_type": "stream",
     "text": [
      "Epoch 63/100 - Val macro F1: 0.1481, Label acc: 0.8550\n",
      "Epoch 64/100 - Train loss: 0.2150\n"
     ]
    },
    {
     "name": "stderr",
     "output_type": "stream",
     "text": [
      "/home/super-pc2/miniconda3/envs/genre-lyrics/lib/python3.10/site-packages/sklearn/metrics/_classification.py:1706: UndefinedMetricWarning: F-score is ill-defined and being set to 0.0 in labels with no true nor predicted samples. Use `zero_division` parameter to control this behavior.\n",
      "  _warn_prf(average, modifier, f\"{metric.capitalize()} is\", result.shape[0])\n"
     ]
    },
    {
     "name": "stdout",
     "output_type": "stream",
     "text": [
      "Epoch 64/100 - Val macro F1: 0.1497, Label acc: 0.8633\n",
      "Epoch 65/100 - Train loss: 0.2141\n"
     ]
    },
    {
     "name": "stderr",
     "output_type": "stream",
     "text": [
      "/home/super-pc2/miniconda3/envs/genre-lyrics/lib/python3.10/site-packages/sklearn/metrics/_classification.py:1706: UndefinedMetricWarning: F-score is ill-defined and being set to 0.0 in labels with no true nor predicted samples. Use `zero_division` parameter to control this behavior.\n",
      "  _warn_prf(average, modifier, f\"{metric.capitalize()} is\", result.shape[0])\n"
     ]
    },
    {
     "name": "stdout",
     "output_type": "stream",
     "text": [
      "Epoch 65/100 - Val macro F1: 0.1574, Label acc: 0.8600\n",
      "Epoch 66/100 - Train loss: 0.2135\n"
     ]
    },
    {
     "name": "stderr",
     "output_type": "stream",
     "text": [
      "/home/super-pc2/miniconda3/envs/genre-lyrics/lib/python3.10/site-packages/sklearn/metrics/_classification.py:1706: UndefinedMetricWarning: F-score is ill-defined and being set to 0.0 in labels with no true nor predicted samples. Use `zero_division` parameter to control this behavior.\n",
      "  _warn_prf(average, modifier, f\"{metric.capitalize()} is\", result.shape[0])\n"
     ]
    },
    {
     "name": "stdout",
     "output_type": "stream",
     "text": [
      "Epoch 66/100 - Val macro F1: 0.1437, Label acc: 0.8567\n",
      "Epoch 67/100 - Train loss: 0.2125\n"
     ]
    },
    {
     "name": "stderr",
     "output_type": "stream",
     "text": [
      "/home/super-pc2/miniconda3/envs/genre-lyrics/lib/python3.10/site-packages/sklearn/metrics/_classification.py:1706: UndefinedMetricWarning: F-score is ill-defined and being set to 0.0 in labels with no true nor predicted samples. Use `zero_division` parameter to control this behavior.\n",
      "  _warn_prf(average, modifier, f\"{metric.capitalize()} is\", result.shape[0])\n"
     ]
    },
    {
     "name": "stdout",
     "output_type": "stream",
     "text": [
      "Epoch 67/100 - Val macro F1: 0.1490, Label acc: 0.8600\n",
      "Epoch 68/100 - Train loss: 0.2120\n"
     ]
    },
    {
     "name": "stderr",
     "output_type": "stream",
     "text": [
      "/home/super-pc2/miniconda3/envs/genre-lyrics/lib/python3.10/site-packages/sklearn/metrics/_classification.py:1706: UndefinedMetricWarning: F-score is ill-defined and being set to 0.0 in labels with no true nor predicted samples. Use `zero_division` parameter to control this behavior.\n",
      "  _warn_prf(average, modifier, f\"{metric.capitalize()} is\", result.shape[0])\n"
     ]
    },
    {
     "name": "stdout",
     "output_type": "stream",
     "text": [
      "Epoch 68/100 - Val macro F1: 0.1493, Label acc: 0.8575\n",
      "Epoch 69/100 - Train loss: 0.2124\n",
      "Epoch 69/100 - Val macro F1: 0.1604, Label acc: 0.8583\n",
      "Epoch 70/100 - Train loss: 0.2105\n"
     ]
    },
    {
     "name": "stderr",
     "output_type": "stream",
     "text": [
      "/home/super-pc2/miniconda3/envs/genre-lyrics/lib/python3.10/site-packages/sklearn/metrics/_classification.py:1706: UndefinedMetricWarning: F-score is ill-defined and being set to 0.0 in labels with no true nor predicted samples. Use `zero_division` parameter to control this behavior.\n",
      "  _warn_prf(average, modifier, f\"{metric.capitalize()} is\", result.shape[0])\n"
     ]
    },
    {
     "name": "stdout",
     "output_type": "stream",
     "text": [
      "Epoch 70/100 - Val macro F1: 0.1537, Label acc: 0.8592\n",
      "Epoch 71/100 - Train loss: 0.2098\n"
     ]
    },
    {
     "name": "stderr",
     "output_type": "stream",
     "text": [
      "/home/super-pc2/miniconda3/envs/genre-lyrics/lib/python3.10/site-packages/sklearn/metrics/_classification.py:1706: UndefinedMetricWarning: F-score is ill-defined and being set to 0.0 in labels with no true nor predicted samples. Use `zero_division` parameter to control this behavior.\n",
      "  _warn_prf(average, modifier, f\"{metric.capitalize()} is\", result.shape[0])\n"
     ]
    },
    {
     "name": "stdout",
     "output_type": "stream",
     "text": [
      "Epoch 71/100 - Val macro F1: 0.1533, Label acc: 0.8600\n",
      "Epoch 72/100 - Train loss: 0.2081\n"
     ]
    },
    {
     "name": "stderr",
     "output_type": "stream",
     "text": [
      "/home/super-pc2/miniconda3/envs/genre-lyrics/lib/python3.10/site-packages/sklearn/metrics/_classification.py:1706: UndefinedMetricWarning: F-score is ill-defined and being set to 0.0 in labels with no true nor predicted samples. Use `zero_division` parameter to control this behavior.\n",
      "  _warn_prf(average, modifier, f\"{metric.capitalize()} is\", result.shape[0])\n"
     ]
    },
    {
     "name": "stdout",
     "output_type": "stream",
     "text": [
      "Epoch 72/100 - Val macro F1: 0.1469, Label acc: 0.8550\n",
      "Epoch 73/100 - Train loss: 0.2095\n"
     ]
    },
    {
     "name": "stderr",
     "output_type": "stream",
     "text": [
      "/home/super-pc2/miniconda3/envs/genre-lyrics/lib/python3.10/site-packages/sklearn/metrics/_classification.py:1706: UndefinedMetricWarning: F-score is ill-defined and being set to 0.0 in labels with no true nor predicted samples. Use `zero_division` parameter to control this behavior.\n",
      "  _warn_prf(average, modifier, f\"{metric.capitalize()} is\", result.shape[0])\n"
     ]
    },
    {
     "name": "stdout",
     "output_type": "stream",
     "text": [
      "Epoch 73/100 - Val macro F1: 0.1568, Label acc: 0.8617\n",
      "Epoch 74/100 - Train loss: 0.2090\n"
     ]
    },
    {
     "name": "stderr",
     "output_type": "stream",
     "text": [
      "/home/super-pc2/miniconda3/envs/genre-lyrics/lib/python3.10/site-packages/sklearn/metrics/_classification.py:1706: UndefinedMetricWarning: F-score is ill-defined and being set to 0.0 in labels with no true nor predicted samples. Use `zero_division` parameter to control this behavior.\n",
      "  _warn_prf(average, modifier, f\"{metric.capitalize()} is\", result.shape[0])\n"
     ]
    },
    {
     "name": "stdout",
     "output_type": "stream",
     "text": [
      "Epoch 74/100 - Val macro F1: 0.1491, Label acc: 0.8575\n",
      "Epoch 75/100 - Train loss: 0.2073\n",
      "Epoch 75/100 - Val macro F1: 0.1433, Label acc: 0.8533\n",
      "Epoch 76/100 - Train loss: 0.2064\n"
     ]
    },
    {
     "name": "stderr",
     "output_type": "stream",
     "text": [
      "/home/super-pc2/miniconda3/envs/genre-lyrics/lib/python3.10/site-packages/sklearn/metrics/_classification.py:1706: UndefinedMetricWarning: F-score is ill-defined and being set to 0.0 in labels with no true nor predicted samples. Use `zero_division` parameter to control this behavior.\n",
      "  _warn_prf(average, modifier, f\"{metric.capitalize()} is\", result.shape[0])\n"
     ]
    },
    {
     "name": "stdout",
     "output_type": "stream",
     "text": [
      "Epoch 76/100 - Val macro F1: 0.1537, Label acc: 0.8600\n",
      "Epoch 77/100 - Train loss: 0.2064\n"
     ]
    },
    {
     "name": "stderr",
     "output_type": "stream",
     "text": [
      "/home/super-pc2/miniconda3/envs/genre-lyrics/lib/python3.10/site-packages/sklearn/metrics/_classification.py:1706: UndefinedMetricWarning: F-score is ill-defined and being set to 0.0 in labels with no true nor predicted samples. Use `zero_division` parameter to control this behavior.\n",
      "  _warn_prf(average, modifier, f\"{metric.capitalize()} is\", result.shape[0])\n"
     ]
    },
    {
     "name": "stdout",
     "output_type": "stream",
     "text": [
      "Epoch 77/100 - Val macro F1: 0.1568, Label acc: 0.8592\n",
      "Epoch 78/100 - Train loss: 0.2049\n",
      "Epoch 78/100 - Val macro F1: 0.1472, Label acc: 0.8575\n",
      "Epoch 79/100 - Train loss: 0.2048\n"
     ]
    },
    {
     "name": "stderr",
     "output_type": "stream",
     "text": [
      "/home/super-pc2/miniconda3/envs/genre-lyrics/lib/python3.10/site-packages/sklearn/metrics/_classification.py:1706: UndefinedMetricWarning: F-score is ill-defined and being set to 0.0 in labels with no true nor predicted samples. Use `zero_division` parameter to control this behavior.\n",
      "  _warn_prf(average, modifier, f\"{metric.capitalize()} is\", result.shape[0])\n"
     ]
    },
    {
     "name": "stdout",
     "output_type": "stream",
     "text": [
      "Epoch 79/100 - Val macro F1: 0.1586, Label acc: 0.8567\n",
      "Epoch 80/100 - Train loss: 0.2048\n"
     ]
    },
    {
     "name": "stderr",
     "output_type": "stream",
     "text": [
      "/home/super-pc2/miniconda3/envs/genre-lyrics/lib/python3.10/site-packages/sklearn/metrics/_classification.py:1706: UndefinedMetricWarning: F-score is ill-defined and being set to 0.0 in labels with no true nor predicted samples. Use `zero_division` parameter to control this behavior.\n",
      "  _warn_prf(average, modifier, f\"{metric.capitalize()} is\", result.shape[0])\n"
     ]
    },
    {
     "name": "stdout",
     "output_type": "stream",
     "text": [
      "Epoch 80/100 - Val macro F1: 0.1548, Label acc: 0.8625\n",
      "Epoch 81/100 - Train loss: 0.2048\n"
     ]
    },
    {
     "name": "stderr",
     "output_type": "stream",
     "text": [
      "/home/super-pc2/miniconda3/envs/genre-lyrics/lib/python3.10/site-packages/sklearn/metrics/_classification.py:1706: UndefinedMetricWarning: F-score is ill-defined and being set to 0.0 in labels with no true nor predicted samples. Use `zero_division` parameter to control this behavior.\n",
      "  _warn_prf(average, modifier, f\"{metric.capitalize()} is\", result.shape[0])\n"
     ]
    },
    {
     "name": "stdout",
     "output_type": "stream",
     "text": [
      "Epoch 81/100 - Val macro F1: 0.1521, Label acc: 0.8567\n",
      "Epoch 82/100 - Train loss: 0.2035\n",
      "Epoch 82/100 - Val macro F1: 0.1483, Label acc: 0.8575\n",
      "Epoch 83/100 - Train loss: 0.2038\n"
     ]
    },
    {
     "name": "stderr",
     "output_type": "stream",
     "text": [
      "/home/super-pc2/miniconda3/envs/genre-lyrics/lib/python3.10/site-packages/sklearn/metrics/_classification.py:1706: UndefinedMetricWarning: F-score is ill-defined and being set to 0.0 in labels with no true nor predicted samples. Use `zero_division` parameter to control this behavior.\n",
      "  _warn_prf(average, modifier, f\"{metric.capitalize()} is\", result.shape[0])\n"
     ]
    },
    {
     "name": "stdout",
     "output_type": "stream",
     "text": [
      "Epoch 83/100 - Val macro F1: 0.1550, Label acc: 0.8642\n",
      "Epoch 84/100 - Train loss: 0.2030\n"
     ]
    },
    {
     "name": "stderr",
     "output_type": "stream",
     "text": [
      "/home/super-pc2/miniconda3/envs/genre-lyrics/lib/python3.10/site-packages/sklearn/metrics/_classification.py:1706: UndefinedMetricWarning: F-score is ill-defined and being set to 0.0 in labels with no true nor predicted samples. Use `zero_division` parameter to control this behavior.\n",
      "  _warn_prf(average, modifier, f\"{metric.capitalize()} is\", result.shape[0])\n"
     ]
    },
    {
     "name": "stdout",
     "output_type": "stream",
     "text": [
      "Epoch 84/100 - Val macro F1: 0.1583, Label acc: 0.8617\n",
      "Epoch 85/100 - Train loss: 0.2025\n"
     ]
    },
    {
     "name": "stderr",
     "output_type": "stream",
     "text": [
      "/home/super-pc2/miniconda3/envs/genre-lyrics/lib/python3.10/site-packages/sklearn/metrics/_classification.py:1706: UndefinedMetricWarning: F-score is ill-defined and being set to 0.0 in labels with no true nor predicted samples. Use `zero_division` parameter to control this behavior.\n",
      "  _warn_prf(average, modifier, f\"{metric.capitalize()} is\", result.shape[0])\n"
     ]
    },
    {
     "name": "stdout",
     "output_type": "stream",
     "text": [
      "Epoch 85/100 - Val macro F1: 0.1514, Label acc: 0.8550\n",
      "Epoch 86/100 - Train loss: 0.2026\n"
     ]
    },
    {
     "name": "stderr",
     "output_type": "stream",
     "text": [
      "/home/super-pc2/miniconda3/envs/genre-lyrics/lib/python3.10/site-packages/sklearn/metrics/_classification.py:1706: UndefinedMetricWarning: F-score is ill-defined and being set to 0.0 in labels with no true nor predicted samples. Use `zero_division` parameter to control this behavior.\n",
      "  _warn_prf(average, modifier, f\"{metric.capitalize()} is\", result.shape[0])\n"
     ]
    },
    {
     "name": "stdout",
     "output_type": "stream",
     "text": [
      "Epoch 86/100 - Val macro F1: 0.1628, Label acc: 0.8575\n",
      "Epoch 87/100 - Train loss: 0.2025\n"
     ]
    },
    {
     "name": "stderr",
     "output_type": "stream",
     "text": [
      "/home/super-pc2/miniconda3/envs/genre-lyrics/lib/python3.10/site-packages/sklearn/metrics/_classification.py:1706: UndefinedMetricWarning: F-score is ill-defined and being set to 0.0 in labels with no true nor predicted samples. Use `zero_division` parameter to control this behavior.\n",
      "  _warn_prf(average, modifier, f\"{metric.capitalize()} is\", result.shape[0])\n"
     ]
    },
    {
     "name": "stdout",
     "output_type": "stream",
     "text": [
      "Epoch 87/100 - Val macro F1: 0.1695, Label acc: 0.8650\n",
      "Epoch 88/100 - Train loss: 0.2022\n"
     ]
    },
    {
     "name": "stderr",
     "output_type": "stream",
     "text": [
      "/home/super-pc2/miniconda3/envs/genre-lyrics/lib/python3.10/site-packages/sklearn/metrics/_classification.py:1706: UndefinedMetricWarning: F-score is ill-defined and being set to 0.0 in labels with no true nor predicted samples. Use `zero_division` parameter to control this behavior.\n",
      "  _warn_prf(average, modifier, f\"{metric.capitalize()} is\", result.shape[0])\n"
     ]
    },
    {
     "name": "stdout",
     "output_type": "stream",
     "text": [
      "Epoch 88/100 - Val macro F1: 0.1562, Label acc: 0.8600\n",
      "Epoch 89/100 - Train loss: 0.2021\n"
     ]
    },
    {
     "name": "stderr",
     "output_type": "stream",
     "text": [
      "/home/super-pc2/miniconda3/envs/genre-lyrics/lib/python3.10/site-packages/sklearn/metrics/_classification.py:1706: UndefinedMetricWarning: F-score is ill-defined and being set to 0.0 in labels with no true nor predicted samples. Use `zero_division` parameter to control this behavior.\n",
      "  _warn_prf(average, modifier, f\"{metric.capitalize()} is\", result.shape[0])\n"
     ]
    },
    {
     "name": "stdout",
     "output_type": "stream",
     "text": [
      "Epoch 89/100 - Val macro F1: 0.1572, Label acc: 0.8633\n",
      "Epoch 90/100 - Train loss: 0.2017\n"
     ]
    },
    {
     "name": "stderr",
     "output_type": "stream",
     "text": [
      "/home/super-pc2/miniconda3/envs/genre-lyrics/lib/python3.10/site-packages/sklearn/metrics/_classification.py:1706: UndefinedMetricWarning: F-score is ill-defined and being set to 0.0 in labels with no true nor predicted samples. Use `zero_division` parameter to control this behavior.\n",
      "  _warn_prf(average, modifier, f\"{metric.capitalize()} is\", result.shape[0])\n"
     ]
    },
    {
     "name": "stdout",
     "output_type": "stream",
     "text": [
      "Epoch 90/100 - Val macro F1: 0.1583, Label acc: 0.8600\n",
      "Epoch 91/100 - Train loss: 0.2022\n"
     ]
    },
    {
     "name": "stderr",
     "output_type": "stream",
     "text": [
      "/home/super-pc2/miniconda3/envs/genre-lyrics/lib/python3.10/site-packages/sklearn/metrics/_classification.py:1706: UndefinedMetricWarning: F-score is ill-defined and being set to 0.0 in labels with no true nor predicted samples. Use `zero_division` parameter to control this behavior.\n",
      "  _warn_prf(average, modifier, f\"{metric.capitalize()} is\", result.shape[0])\n"
     ]
    },
    {
     "name": "stdout",
     "output_type": "stream",
     "text": [
      "Epoch 91/100 - Val macro F1: 0.1555, Label acc: 0.8575\n",
      "Epoch 92/100 - Train loss: 0.2018\n"
     ]
    },
    {
     "name": "stderr",
     "output_type": "stream",
     "text": [
      "/home/super-pc2/miniconda3/envs/genre-lyrics/lib/python3.10/site-packages/sklearn/metrics/_classification.py:1706: UndefinedMetricWarning: F-score is ill-defined and being set to 0.0 in labels with no true nor predicted samples. Use `zero_division` parameter to control this behavior.\n",
      "  _warn_prf(average, modifier, f\"{metric.capitalize()} is\", result.shape[0])\n"
     ]
    },
    {
     "name": "stdout",
     "output_type": "stream",
     "text": [
      "Epoch 92/100 - Val macro F1: 0.1494, Label acc: 0.8575\n",
      "Epoch 93/100 - Train loss: 0.2015\n"
     ]
    },
    {
     "name": "stderr",
     "output_type": "stream",
     "text": [
      "/home/super-pc2/miniconda3/envs/genre-lyrics/lib/python3.10/site-packages/sklearn/metrics/_classification.py:1706: UndefinedMetricWarning: F-score is ill-defined and being set to 0.0 in labels with no true nor predicted samples. Use `zero_division` parameter to control this behavior.\n",
      "  _warn_prf(average, modifier, f\"{metric.capitalize()} is\", result.shape[0])\n"
     ]
    },
    {
     "name": "stdout",
     "output_type": "stream",
     "text": [
      "Epoch 93/100 - Val macro F1: 0.1494, Label acc: 0.8592\n",
      "Epoch 94/100 - Train loss: 0.2012\n"
     ]
    },
    {
     "name": "stderr",
     "output_type": "stream",
     "text": [
      "/home/super-pc2/miniconda3/envs/genre-lyrics/lib/python3.10/site-packages/sklearn/metrics/_classification.py:1706: UndefinedMetricWarning: F-score is ill-defined and being set to 0.0 in labels with no true nor predicted samples. Use `zero_division` parameter to control this behavior.\n",
      "  _warn_prf(average, modifier, f\"{metric.capitalize()} is\", result.shape[0])\n"
     ]
    },
    {
     "name": "stdout",
     "output_type": "stream",
     "text": [
      "Epoch 94/100 - Val macro F1: 0.1661, Label acc: 0.8625\n",
      "Epoch 95/100 - Train loss: 0.2011\n"
     ]
    },
    {
     "name": "stderr",
     "output_type": "stream",
     "text": [
      "/home/super-pc2/miniconda3/envs/genre-lyrics/lib/python3.10/site-packages/sklearn/metrics/_classification.py:1706: UndefinedMetricWarning: F-score is ill-defined and being set to 0.0 in labels with no true nor predicted samples. Use `zero_division` parameter to control this behavior.\n",
      "  _warn_prf(average, modifier, f\"{metric.capitalize()} is\", result.shape[0])\n"
     ]
    },
    {
     "name": "stdout",
     "output_type": "stream",
     "text": [
      "Epoch 95/100 - Val macro F1: 0.1664, Label acc: 0.8608\n",
      "Epoch 96/100 - Train loss: 0.2014\n"
     ]
    },
    {
     "name": "stderr",
     "output_type": "stream",
     "text": [
      "/home/super-pc2/miniconda3/envs/genre-lyrics/lib/python3.10/site-packages/sklearn/metrics/_classification.py:1706: UndefinedMetricWarning: F-score is ill-defined and being set to 0.0 in labels with no true nor predicted samples. Use `zero_division` parameter to control this behavior.\n",
      "  _warn_prf(average, modifier, f\"{metric.capitalize()} is\", result.shape[0])\n"
     ]
    },
    {
     "name": "stdout",
     "output_type": "stream",
     "text": [
      "Epoch 96/100 - Val macro F1: 0.1668, Label acc: 0.8650\n",
      "Epoch 97/100 - Train loss: 0.2010\n"
     ]
    },
    {
     "name": "stderr",
     "output_type": "stream",
     "text": [
      "/home/super-pc2/miniconda3/envs/genre-lyrics/lib/python3.10/site-packages/sklearn/metrics/_classification.py:1706: UndefinedMetricWarning: F-score is ill-defined and being set to 0.0 in labels with no true nor predicted samples. Use `zero_division` parameter to control this behavior.\n",
      "  _warn_prf(average, modifier, f\"{metric.capitalize()} is\", result.shape[0])\n"
     ]
    },
    {
     "name": "stdout",
     "output_type": "stream",
     "text": [
      "Epoch 97/100 - Val macro F1: 0.1421, Label acc: 0.8533\n",
      "Epoch 98/100 - Train loss: 0.2011\n"
     ]
    },
    {
     "name": "stderr",
     "output_type": "stream",
     "text": [
      "/home/super-pc2/miniconda3/envs/genre-lyrics/lib/python3.10/site-packages/sklearn/metrics/_classification.py:1706: UndefinedMetricWarning: F-score is ill-defined and being set to 0.0 in labels with no true nor predicted samples. Use `zero_division` parameter to control this behavior.\n",
      "  _warn_prf(average, modifier, f\"{metric.capitalize()} is\", result.shape[0])\n"
     ]
    },
    {
     "name": "stdout",
     "output_type": "stream",
     "text": [
      "Epoch 98/100 - Val macro F1: 0.1544, Label acc: 0.8608\n",
      "Epoch 99/100 - Train loss: 0.2009\n"
     ]
    },
    {
     "name": "stderr",
     "output_type": "stream",
     "text": [
      "/home/super-pc2/miniconda3/envs/genre-lyrics/lib/python3.10/site-packages/sklearn/metrics/_classification.py:1706: UndefinedMetricWarning: F-score is ill-defined and being set to 0.0 in labels with no true nor predicted samples. Use `zero_division` parameter to control this behavior.\n",
      "  _warn_prf(average, modifier, f\"{metric.capitalize()} is\", result.shape[0])\n"
     ]
    },
    {
     "name": "stdout",
     "output_type": "stream",
     "text": [
      "Epoch 99/100 - Val macro F1: 0.1477, Label acc: 0.8575\n",
      "Epoch 100/100 - Train loss: 0.2015\n",
      "Epoch 100/100 - Val macro F1: 0.1553, Label acc: 0.8617\n"
     ]
    },
    {
     "name": "stderr",
     "output_type": "stream",
     "text": [
      "/home/super-pc2/miniconda3/envs/genre-lyrics/lib/python3.10/site-packages/sklearn/metrics/_classification.py:1706: UndefinedMetricWarning: F-score is ill-defined and being set to 0.0 in labels with no true nor predicted samples. Use `zero_division` parameter to control this behavior.\n",
      "  _warn_prf(average, modifier, f\"{metric.capitalize()} is\", result.shape[0])\n"
     ]
    }
   ],
   "source": [
    "model = train(model=model,\n",
    "      idx2genre=idx2genre,\n",
    "      learning_rate=learning_rate,\n",
    "      num_epochs=num_epochs,\n",
    "      tokenizer=tokenizer,\n",
    "      train_loader=train_loader,\n",
    "      val_loader=val_loader,\n",
    "      device=device)"
   ]
  },
  {
   "cell_type": "code",
   "execution_count": 10,
   "id": "496b879c",
   "metadata": {},
   "outputs": [
    {
     "name": "stdout",
     "output_type": "stream",
     "text": [
      "\n",
      "Best threshold: 0.15 with macro F1-score: 0.1911\n",
      "Threshold sweep results:\n",
      "Threshold = 0.10 --> Macro F1 = 0.1853\n",
      "Threshold = 0.15 --> Macro F1 = 0.1911\n",
      "Threshold = 0.20 --> Macro F1 = 0.1909\n",
      "Threshold = 0.25 --> Macro F1 = 0.1836\n",
      "Threshold = 0.30 --> Macro F1 = 0.1807\n",
      "Threshold = 0.35 --> Macro F1 = 0.1689\n",
      "Threshold = 0.40 --> Macro F1 = 0.1654\n",
      "Threshold = 0.45 --> Macro F1 = 0.1590\n",
      "Threshold = 0.50 --> Macro F1 = 0.1553\n",
      "Threshold = 0.55 --> Macro F1 = 0.1432\n",
      "Threshold = 0.60 --> Macro F1 = 0.1273\n",
      "Threshold = 0.65 --> Macro F1 = 0.1265\n",
      "Threshold = 0.70 --> Macro F1 = 0.1169\n",
      "Threshold = 0.75 --> Macro F1 = 0.1179\n",
      "Threshold = 0.80 --> Macro F1 = 0.0966\n",
      "Threshold = 0.85 --> Macro F1 = 0.0858\n",
      "Threshold = 0.90 --> Macro F1 = 0.0529\n"
     ]
    }
   ],
   "source": [
    "import numpy as np\n",
    "from sklearn.metrics import f1_score\n",
    "\n",
    "model.eval()\n",
    "\n",
    "# Choose threshold range\n",
    "thresholds = np.arange(0.1, 0.91, 0.05)\n",
    "\n",
    "# To store best results\n",
    "best_threshold = 0.0\n",
    "best_f1 = 0.0\n",
    "threshold_f1_scores = []\n",
    "\n",
    "all_val_preds = []\n",
    "all_val_labels = []\n",
    "\n",
    "# Collect raw logits for threshold testing\n",
    "with torch.no_grad():\n",
    "    for batch in val_loader:\n",
    "        input_ids = batch['input_ids'].to(device)\n",
    "        attention_mask = batch['attention_mask'].to(device)\n",
    "        labels = batch['labels'].to(device)\n",
    "\n",
    "        logits = model(input_ids, attention_mask)\n",
    "        probs = torch.sigmoid(logits)\n",
    "\n",
    "        all_val_preds.append(probs.cpu())     # save sigmoid probs\n",
    "        all_val_labels.append(labels.cpu())\n",
    "\n",
    "# Concatenate all batches\n",
    "all_val_probs = torch.cat(all_val_preds, dim=0).to(torch.float32).numpy()\n",
    "all_val_labels = torch.cat(all_val_labels, dim=0).to(torch.float32).numpy()\n",
    "\n",
    "\n",
    "# Search for best threshold\n",
    "for threshold in thresholds:\n",
    "    preds = (all_val_probs > threshold).astype(int)\n",
    "    f1 = f1_score(all_val_labels, preds, average='macro', zero_division=0)\n",
    "    threshold_f1_scores.append((threshold, f1))\n",
    "\n",
    "    if f1 > best_f1:\n",
    "        best_f1 = f1\n",
    "        best_threshold = threshold\n",
    "\n",
    "# Report\n",
    "print(f\"\\nBest threshold: {best_threshold:.2f} with macro F1-score: {best_f1:.4f}\")\n",
    "print(\"Threshold sweep results:\")\n",
    "for t, f1 in threshold_f1_scores:\n",
    "    print(f\"Threshold = {t:.2f} --> Macro F1 = {f1:.4f}\")\n"
   ]
  }
 ],
 "metadata": {
  "kaggle": {
   "accelerator": "nvidiaTeslaT4",
   "dataSources": [
    {
     "datasetId": 7511036,
     "sourceId": 11947470,
     "sourceType": "datasetVersion"
    }
   ],
   "dockerImageVersionId": 31041,
   "isGpuEnabled": true,
   "isInternetEnabled": true,
   "language": "python",
   "sourceType": "notebook"
  },
  "kernelspec": {
   "display_name": "genre-lyrics",
   "language": "python",
   "name": "python3"
  },
  "language_info": {
   "codemirror_mode": {
    "name": "ipython",
    "version": 3
   },
   "file_extension": ".py",
   "mimetype": "text/x-python",
   "name": "python",
   "nbconvert_exporter": "python",
   "pygments_lexer": "ipython3",
   "version": "3.10.13"
  }
 },
 "nbformat": 4,
 "nbformat_minor": 5
}
