{
 "cells": [
  {
   "cell_type": "markdown",
   "id": "554d005d",
   "metadata": {},
   "source": [
    "# Here we will use ptune learning method as baseline for genre classification\n"
   ]
  },
  {
   "cell_type": "code",
   "execution_count": 1,
   "id": "bf8912f4",
   "metadata": {},
   "outputs": [],
   "source": [
    "import sys\n",
    "import os\n",
    "\n",
    "sys.path.append(os.path.abspath('../'))"
   ]
  },
  {
   "cell_type": "code",
   "execution_count": 2,
   "id": "d40a909a",
   "metadata": {},
   "outputs": [
    {
     "name": "stderr",
     "output_type": "stream",
     "text": [
      "/home/super-pc2/miniconda3/envs/genre-lyrics/lib/python3.10/site-packages/tqdm/auto.py:21: TqdmWarning: IProgress not found. Please update jupyter and ipywidgets. See https://ipywidgets.readthedocs.io/en/stable/user_install.html\n",
      "  from .autonotebook import tqdm as notebook_tqdm\n"
     ]
    },
    {
     "data": {
      "text/plain": [
       "'cuda'"
      ]
     },
     "execution_count": 2,
     "metadata": {},
     "output_type": "execute_result"
    }
   ],
   "source": [
    "import numpy as np\n",
    "\n",
    "os.environ[\"PYTORCH_CUDA_ALLOC_CONF\"] = \"expandable_segments:True\"\n",
    "import torch\n",
    "torch.cuda.empty_cache()\n",
    "device = 'cuda' if torch.cuda.is_available() else 'cpu'\n",
    "\n",
    "from transformers import AutoModelForCausalLM, AutoTokenizer\n",
    "\n",
    "from src.utils import logger, DatasetTypes\n",
    "from src.data import init_data\n",
    "from src.ptune import prepare_ptune, train\n",
    "from src.metrics import GenrePredictorInterface, evaluate_model\n",
    "from src.model import get_pretrained\n",
    "import json\n",
    "import re\n",
    "# supported files in spython\n",
    "device"
   ]
  },
  {
   "cell_type": "code",
   "execution_count": 3,
   "id": "8c534801-2e02-4f0a-b96c-c488206b8bb0",
   "metadata": {
    "execution": {
     "iopub.execute_input": "2025-05-25T15:12:36.717018Z",
     "iopub.status.busy": "2025-05-25T15:12:36.715900Z",
     "iopub.status.idle": "2025-05-25T15:13:00.731483Z",
     "shell.execute_reply": "2025-05-25T15:13:00.730602Z",
     "shell.execute_reply.started": "2025-05-25T15:12:36.716983Z"
    },
    "trusted": true
   },
   "outputs": [],
   "source": [
    "model_name = \"Qwen/Qwen3-0.6B\"\n",
    "tokenizer, model = get_pretrained(model_name, device)"
   ]
  },
  {
   "cell_type": "markdown",
   "id": "72ad611e",
   "metadata": {},
   "source": [
    "## Get dataset with all genres and 1,294,054 examples"
   ]
  },
  {
   "cell_type": "code",
   "execution_count": 4,
   "id": "24290537",
   "metadata": {},
   "outputs": [],
   "source": [
    "path_to_csv = '../data/all_genres_downsampled.csv'\n",
    "train_dataset, val_dataset, test_dataset , idx2genre, genres, train_loader, val_loader, test_loader = init_data(path_to_csv=path_to_csv, batch_size=16, tokenizer=tokenizer)"
   ]
  },
  {
   "cell_type": "code",
   "execution_count": 5,
   "id": "724e45a1",
   "metadata": {},
   "outputs": [
    {
     "name": "stdout",
     "output_type": "stream",
     "text": [
      "trainable params: 51,200 || all params: 596,101,120 || trainable%: 0.0086\n"
     ]
    }
   ],
   "source": [
    "model = prepare_ptune(model=model, model_name=model_name, genres=genres, device=device)"
   ]
  },
  {
   "cell_type": "code",
   "execution_count": 6,
   "id": "0cfaa4f6",
   "metadata": {},
   "outputs": [],
   "source": [
    "num_epochs = 100\n",
    "warmup_steps = 500\n",
    "learning_rate = 5e-5"
   ]
  },
  {
   "cell_type": "code",
   "execution_count": 7,
   "id": "4943e64e",
   "metadata": {},
   "outputs": [
    {
     "name": "stderr",
     "output_type": "stream",
     "text": [
      "`use_cache=True` is incompatible with gradient checkpointing. Setting `use_cache=False`.\n"
     ]
    },
    {
     "ename": "RuntimeError",
     "evalue": "a Tensor with 88 elements cannot be converted to Scalar",
     "output_type": "error",
     "traceback": [
      "\u001b[0;31m---------------------------------------------------------------------------\u001b[0m",
      "\u001b[0;31mRuntimeError\u001b[0m                              Traceback (most recent call last)",
      "Cell \u001b[0;32mIn[7], line 1\u001b[0m\n\u001b[0;32m----> 1\u001b[0m model \u001b[38;5;241m=\u001b[39m \u001b[43mtrain\u001b[49m\u001b[43m(\u001b[49m\u001b[43mmodel\u001b[49m\u001b[38;5;241;43m=\u001b[39;49m\u001b[43mmodel\u001b[49m\u001b[43m,\u001b[49m\n\u001b[1;32m      2\u001b[0m \u001b[43m      \u001b[49m\u001b[43midx2genre\u001b[49m\u001b[38;5;241;43m=\u001b[39;49m\u001b[43midx2genre\u001b[49m\u001b[43m,\u001b[49m\n\u001b[1;32m      3\u001b[0m \u001b[43m      \u001b[49m\u001b[43mlearning_rate\u001b[49m\u001b[38;5;241;43m=\u001b[39;49m\u001b[43mlearning_rate\u001b[49m\u001b[43m,\u001b[49m\n\u001b[1;32m      4\u001b[0m \u001b[43m      \u001b[49m\u001b[43mnum_epochs\u001b[49m\u001b[38;5;241;43m=\u001b[39;49m\u001b[43mnum_epochs\u001b[49m\u001b[43m,\u001b[49m\n\u001b[1;32m      5\u001b[0m \u001b[43m      \u001b[49m\u001b[43mtokenizer\u001b[49m\u001b[38;5;241;43m=\u001b[39;49m\u001b[43mtokenizer\u001b[49m\u001b[43m,\u001b[49m\n\u001b[1;32m      6\u001b[0m \u001b[43m      \u001b[49m\u001b[43mtrain_loader\u001b[49m\u001b[38;5;241;43m=\u001b[39;49m\u001b[43mtrain_loader\u001b[49m\u001b[43m,\u001b[49m\n\u001b[1;32m      7\u001b[0m \u001b[43m      \u001b[49m\u001b[43mval_loader\u001b[49m\u001b[38;5;241;43m=\u001b[39;49m\u001b[43mval_loader\u001b[49m\u001b[43m,\u001b[49m\n\u001b[1;32m      8\u001b[0m \u001b[43m      \u001b[49m\u001b[43mdevice\u001b[49m\u001b[38;5;241;43m=\u001b[39;49m\u001b[43mdevice\u001b[49m\u001b[43m)\u001b[49m\n",
      "File \u001b[0;32m~/LyricsGenreClassification/LyricsGenreClassification/src/ptune.py:99\u001b[0m, in \u001b[0;36mtrain\u001b[0;34m(model, idx2genre, learning_rate, num_epochs, tokenizer, train_loader, val_loader, device)\u001b[0m\n\u001b[1;32m     96\u001b[0m \u001b[38;5;66;03m# Use last token logits to predict genre token\u001b[39;00m\n\u001b[1;32m     97\u001b[0m last_logit \u001b[38;5;241m=\u001b[39m lm_logits[:, \u001b[38;5;241m-\u001b[39m\u001b[38;5;241m1\u001b[39m, :]  \u001b[38;5;66;03m# [batch, vocab]\u001b[39;00m\n\u001b[1;32m     98\u001b[0m target_ids \u001b[38;5;241m=\u001b[39m torch\u001b[38;5;241m.\u001b[39mtensor(\n\u001b[0;32m---> 99\u001b[0m     [label_token_ids[idx2genre[i\u001b[38;5;241m.\u001b[39mitem()]] \u001b[38;5;28;01mfor\u001b[39;00m i \u001b[38;5;129;01min\u001b[39;00m labels],\n\u001b[1;32m    100\u001b[0m     device\u001b[38;5;241m=\u001b[39mdevice\n\u001b[1;32m    101\u001b[0m )\n\u001b[1;32m    103\u001b[0m loss \u001b[38;5;241m=\u001b[39m label_smoothed_nll_loss(logits, labels, smoothing\u001b[38;5;241m=\u001b[39m\u001b[38;5;241m0.1\u001b[39m)\n\u001b[1;32m    104\u001b[0m optimizer\u001b[38;5;241m.\u001b[39mzero_grad()\n",
      "File \u001b[0;32m~/LyricsGenreClassification/LyricsGenreClassification/src/ptune.py:99\u001b[0m, in \u001b[0;36m<listcomp>\u001b[0;34m(.0)\u001b[0m\n\u001b[1;32m     96\u001b[0m \u001b[38;5;66;03m# Use last token logits to predict genre token\u001b[39;00m\n\u001b[1;32m     97\u001b[0m last_logit \u001b[38;5;241m=\u001b[39m lm_logits[:, \u001b[38;5;241m-\u001b[39m\u001b[38;5;241m1\u001b[39m, :]  \u001b[38;5;66;03m# [batch, vocab]\u001b[39;00m\n\u001b[1;32m     98\u001b[0m target_ids \u001b[38;5;241m=\u001b[39m torch\u001b[38;5;241m.\u001b[39mtensor(\n\u001b[0;32m---> 99\u001b[0m     [label_token_ids[idx2genre[\u001b[43mi\u001b[49m\u001b[38;5;241;43m.\u001b[39;49m\u001b[43mitem\u001b[49m\u001b[43m(\u001b[49m\u001b[43m)\u001b[49m]] \u001b[38;5;28;01mfor\u001b[39;00m i \u001b[38;5;129;01min\u001b[39;00m labels],\n\u001b[1;32m    100\u001b[0m     device\u001b[38;5;241m=\u001b[39mdevice\n\u001b[1;32m    101\u001b[0m )\n\u001b[1;32m    103\u001b[0m loss \u001b[38;5;241m=\u001b[39m label_smoothed_nll_loss(logits, labels, smoothing\u001b[38;5;241m=\u001b[39m\u001b[38;5;241m0.1\u001b[39m)\n\u001b[1;32m    104\u001b[0m optimizer\u001b[38;5;241m.\u001b[39mzero_grad()\n",
      "\u001b[0;31mRuntimeError\u001b[0m: a Tensor with 88 elements cannot be converted to Scalar"
     ]
    }
   ],
   "source": [
    "model = train(model=model,\n",
    "      idx2genre=idx2genre,\n",
    "      learning_rate=learning_rate,\n",
    "      num_epochs=num_epochs,\n",
    "      tokenizer=tokenizer,\n",
    "      train_loader=train_loader,\n",
    "      val_loader=val_loader,\n",
    "      device=device)"
   ]
  },
  {
   "cell_type": "code",
   "execution_count": 11,
   "id": "496b879c",
   "metadata": {},
   "outputs": [
    {
     "name": "stdout",
     "output_type": "stream",
     "text": [
      "\n",
      "Testing on test set:\n",
      "Predicted genre is: alt-rock        | Actual genre is: alt-country\n",
      "Predicted genre is: alt-rock        | Actual genre is: alt-country\n",
      "Predicted genre is: alt-rock        | Actual genre is: alt-country\n",
      "Predicted genre is: alt-rock        | Actual genre is: alt-country\n",
      "Predicted genre is: alt-rock        | Actual genre is: alt-country\n",
      "Predicted genre is: alt-rock        | Actual genre is: alt-country\n",
      "Predicted genre is: alt-rock        | Actual genre is: alt-country\n",
      "Predicted genre is: alt-rock        | Actual genre is: alt-country\n",
      "Predicted genre is: alt-rock        | Actual genre is: alt-country\n",
      "Predicted genre is: alt-rock        | Actual genre is: alt-country\n",
      "Predicted genre is: alt-rock        | Actual genre is: alt-country\n",
      "Predicted genre is: alt-rock        | Actual genre is: alt-country\n",
      "Predicted genre is: alt-rock        | Actual genre is: alt-country\n",
      "Predicted genre is: alt-rock        | Actual genre is: alt-country\n",
      "Predicted genre is: alt-rock        | Actual genre is: alt-country\n",
      "Predicted genre is: alt-rock        | Actual genre is: alt-country\n",
      "Predicted genre is: alt-rock        | Actual genre is: alt-country\n",
      "Predicted genre is: alt-rock        | Actual genre is: alt-country\n",
      "Predicted genre is: alt-rock        | Actual genre is: alt-country\n",
      "Predicted genre is: alt-rock        | Actual genre is: alt-country\n",
      "Predicted genre is: alt-rock        | Actual genre is: alt-country\n",
      "Predicted genre is: alt-rock        | Actual genre is: alt-country\n",
      "Predicted genre is: alt-rock        | Actual genre is: alt-country\n",
      "Predicted genre is: alt-rock        | Actual genre is: alt-country\n",
      "Predicted genre is: alt-rock        | Actual genre is: alt-country\n",
      "Predicted genre is: alt-rock        | Actual genre is: alt-country\n",
      "Predicted genre is: alt-rock        | Actual genre is: alt-country\n",
      "Predicted genre is: alt-rock        | Actual genre is: alt-country\n",
      "Predicted genre is: alt-rock        | Actual genre is: alt-country\n",
      "Predicted genre is: alt-rock        | Actual genre is: alt-country\n",
      "Predicted genre is: alt-rock        | Actual genre is: alt-country\n",
      "Predicted genre is: alt-rock        | Actual genre is: alt-country\n",
      "Predicted genre is: alt-rock        | Actual genre is: alt-country\n",
      "Predicted genre is: alt-rock        | Actual genre is: alt-country\n",
      "Predicted genre is: alt-rock        | Actual genre is: alt-country\n",
      "Predicted genre is: alt-rock        | Actual genre is: alt-country\n",
      "Predicted genre is: alt-rock        | Actual genre is: alt-country\n",
      "Predicted genre is: alt-rock        | Actual genre is: alt-country\n",
      "Predicted genre is: alt-rock        | Actual genre is: alt-country\n",
      "Predicted genre is: alt-rock        | Actual genre is: alt-country\n",
      "Predicted genre is: alt-rock        | Actual genre is: alt-country\n",
      "Predicted genre is: alt-rock        | Actual genre is: alt-country\n",
      "Predicted genre is: alt-rock        | Actual genre is: alt-country\n",
      "Predicted genre is: alt-rock        | Actual genre is: alt-country\n",
      "Predicted genre is: alt-rock        | Actual genre is: alt-country\n",
      "Predicted genre is: alt-rock        | Actual genre is: alt-country\n",
      "Predicted genre is: alt-rock        | Actual genre is: alt-country\n",
      "Predicted genre is: alt-rock        | Actual genre is: alt-country\n",
      "Predicted genre is: alt-rock        | Actual genre is: alt-country\n",
      "Predicted genre is: alt-rock        | Actual genre is: alt-country\n",
      "Predicted genre is: alt-rock        | Actual genre is: alt-country\n",
      "Predicted genre is: alt-rock        | Actual genre is: alt-country\n",
      "Predicted genre is: alt-rock        | Actual genre is: alt-country\n",
      "Predicted genre is: alt-rock        | Actual genre is: alt-country\n",
      "Predicted genre is: alt-rock        | Actual genre is: alt-country\n",
      "Predicted genre is: alt-rock        | Actual genre is: alt-country\n",
      "Predicted genre is: alt-rock        | Actual genre is: alt-country\n",
      "Predicted genre is: alt-rock        | Actual genre is: alt-country\n",
      "Predicted genre is: UNKNOWN         | Actual genre is: alt-country\n",
      "Predicted genre is: alt-rock        | Actual genre is: alt-country\n",
      "Predicted genre is: alt-rock        | Actual genre is: alt-country\n",
      "Predicted genre is: alt-rock        | Actual genre is: alt-country\n",
      "Predicted genre is: alt-rock        | Actual genre is: alt-country\n",
      "Predicted genre is: alt-rock        | Actual genre is: alt-country\n",
      "Predicted genre is: alt-rock        | Actual genre is: alt-country\n",
      "Predicted genre is: alt-rock        | Actual genre is: alt-country\n",
      "Predicted genre is: alt-rock        | Actual genre is: alt-country\n",
      "Predicted genre is: alt-rock        | Actual genre is: alt-country\n",
      "Predicted genre is: alt-rock        | Actual genre is: alt-country\n",
      "Predicted genre is: alt-rock        | Actual genre is: alt-country\n",
      "Predicted genre is: alt-rock        | Actual genre is: alt-country\n",
      "Predicted genre is: alt-rock        | Actual genre is: alt-country\n",
      "Predicted genre is: alt-rock        | Actual genre is: alt-country\n",
      "Predicted genre is: alt-rock        | Actual genre is: alt-country\n",
      "Predicted genre is: alt-rock        | Actual genre is: alt-country\n",
      "Predicted genre is: alt-rock        | Actual genre is: alt-country\n",
      "Predicted genre is: alt-rock        | Actual genre is: alt-country\n",
      "Predicted genre is: alt-rock        | Actual genre is: alt-country\n",
      "Predicted genre is: alt-rock        | Actual genre is: alt-country\n",
      "Predicted genre is: alt-rock        | Actual genre is: alt-country\n",
      "Predicted genre is: alt-rock        | Actual genre is: alt-country\n",
      "Predicted genre is: alt-rock        | Actual genre is: alt-country\n",
      "Predicted genre is: alt-rock        | Actual genre is: alt-country\n",
      "Predicted genre is: alt-rock        | Actual genre is: alt-country\n",
      "Predicted genre is: alt-rock        | Actual genre is: alt-country\n",
      "Predicted genre is: alt-rock        | Actual genre is: alt-country\n",
      "Predicted genre is: alt-rock        | Actual genre is: alt-country\n",
      "Predicted genre is: alt-rock        | Actual genre is: alt-country\n",
      "Predicted genre is: alt-rock        | Actual genre is: alt-country\n",
      "Predicted genre is: alt-rock        | Actual genre is: alt-country\n",
      "Predicted genre is: alt-rock        | Actual genre is: alt-country\n",
      "Predicted genre is: alt-rock        | Actual genre is: alt-country\n",
      "Predicted genre is: alt-rock        | Actual genre is: alt-country\n",
      "Predicted genre is: alt-rock        | Actual genre is: alt-country\n",
      "Predicted genre is: alt-rock        | Actual genre is: alt-country\n",
      "Predicted genre is: alt-rock        | Actual genre is: alt-country\n",
      "Predicted genre is: alt-rock        | Actual genre is: alt-country\n",
      "Predicted genre is: alt-rock        | Actual genre is: alt-country\n",
      "Predicted genre is: alt-rock        | Actual genre is: alt-country\n",
      "Predicted genre is: alt-rock        | Actual genre is: alt-country\n",
      "Predicted genre is: alt-rock        | Actual genre is: alt-country\n",
      "Predicted genre is: alt-rock        | Actual genre is: alt-country\n",
      "Predicted genre is: alt-rock        | Actual genre is: alt-country\n",
      "Predicted genre is: alt-rock        | Actual genre is: alt-country\n",
      "Predicted genre is: alt-rock        | Actual genre is: alt-country\n",
      "Predicted genre is: alt-rock        | Actual genre is: alt-country\n",
      "Predicted genre is: alt-rock        | Actual genre is: alt-country\n",
      "Predicted genre is: alt-rock        | Actual genre is: alt-country\n",
      "Predicted genre is: alt-rock        | Actual genre is: alt-country\n",
      "Predicted genre is: alt-rock        | Actual genre is: alt-country\n",
      "Predicted genre is: alt-rock        | Actual genre is: alt-country\n",
      "Predicted genre is: alt-rock        | Actual genre is: alt-country\n",
      "Predicted genre is: alt-rock        | Actual genre is: alt-country\n",
      "Predicted genre is: alt-rock        | Actual genre is: alt-country\n",
      "Predicted genre is: alt-rock        | Actual genre is: alt-country\n",
      "Predicted genre is: alt-rock        | Actual genre is: alt-country\n",
      "Predicted genre is: alt-rock        | Actual genre is: alt-country\n",
      "Predicted genre is: alt-rock        | Actual genre is: alt-country\n",
      "Predicted genre is: alt-rock        | Actual genre is: alt-country\n",
      "Predicted genre is: alt-rock        | Actual genre is: alt-country\n",
      "Predicted genre is: alt-rock        | Actual genre is: alt-country\n",
      "Predicted genre is: alt-rock        | Actual genre is: alt-country\n",
      "Predicted genre is: alt-rock        | Actual genre is: alt-country\n",
      "Predicted genre is: alt-rock        | Actual genre is: alt-country\n",
      "Predicted genre is: alt-rock        | Actual genre is: alt-country\n",
      "Predicted genre is: alt-rock        | Actual genre is: alt-country\n",
      "Predicted genre is: alt-rock        | Actual genre is: alt-country\n",
      "Predicted genre is: alt-rock        | Actual genre is: alt-country\n",
      "Predicted genre is: alt-rock        | Actual genre is: alt-country\n",
      "Predicted genre is: alt-rock        | Actual genre is: alt-country\n",
      "Predicted genre is: alt-rock        | Actual genre is: alt-country\n",
      "Predicted genre is: alt-rock        | Actual genre is: alt-country\n",
      "Predicted genre is: alt-rock        | Actual genre is: alt-country\n",
      "Predicted genre is: alt-rock        | Actual genre is: alt-country\n",
      "Predicted genre is: alt-rock        | Actual genre is: alt-country\n",
      "Predicted genre is: alt-rock        | Actual genre is: alt-country\n",
      "Predicted genre is: alt-rock        | Actual genre is: alt-country\n",
      "Predicted genre is: alt-rock        | Actual genre is: alt-country\n",
      "Predicted genre is: alt-rock        | Actual genre is: alt-country\n",
      "Predicted genre is: alt-rock        | Actual genre is: alt-country\n",
      "Predicted genre is: alt-rock        | Actual genre is: alt-country\n",
      "Predicted genre is: alt-rock        | Actual genre is: alt-country\n",
      "Predicted genre is: alt-rock        | Actual genre is: alt-country\n",
      "Predicted genre is: alt-rock        | Actual genre is: alt-country\n",
      "Predicted genre is: alt-rock        | Actual genre is: alt-country\n",
      "Predicted genre is: alt-rock        | Actual genre is: alt-country\n",
      "Predicted genre is: alt-rock        | Actual genre is: alt-country\n",
      "Predicted genre is: alt-rock        | Actual genre is: alt-country\n",
      "Predicted genre is: alt-rock        | Actual genre is: alt-country\n",
      "Predicted genre is: alt-rock        | Actual genre is: alt-country\n"
     ]
    }
   ],
   "source": [
    "label_token_ids = {g: tokenizer.encode(' ' + g, add_special_tokens=False)[0] for g in idx2genre.values()}\n",
    "id2label_token = {v: k for k, v in label_token_ids.items()}\n",
    "\n",
    "model.eval()\n",
    "print(\"\\nTesting on test set:\")\n",
    "with torch.no_grad():\n",
    "    for batch in test_loader:\n",
    "        input_ids = batch['input_ids'].to(device)\n",
    "        attention_mask = batch['attention_mask'].to(device)\n",
    "        labels = batch['labels'].to(device)\n",
    "        outputs = model(\n",
    "            input_ids=input_ids,\n",
    "            attention_mask=attention_mask,\n",
    "            return_dict=True\n",
    "        )\n",
    "        logits = outputs.logits[:, -1, :]\n",
    "        preds = logits.argmax(dim=-1)\n",
    "\n",
    "        for i in range(len(labels)):\n",
    "            pred_token = preds[i].item()\n",
    "            label_idx = labels[i].item() if labels[i].ndim == 0 else labels[i][0].item()\n",
    "            true_label = idx2genre[label_idx]\n",
    "            pred_label = id2label_token.get(pred_token, 'UNKNOWN')\n",
    "            print(f\"Predicted genre is: {pred_label:<15} | Actual genre is: {true_label}\")"
   ]
  }
 ],
 "metadata": {
  "kaggle": {
   "accelerator": "nvidiaTeslaT4",
   "dataSources": [
    {
     "datasetId": 7511036,
     "sourceId": 11947470,
     "sourceType": "datasetVersion"
    }
   ],
   "dockerImageVersionId": 31041,
   "isGpuEnabled": true,
   "isInternetEnabled": true,
   "language": "python",
   "sourceType": "notebook"
  },
  "kernelspec": {
   "display_name": "genre-lyrics",
   "language": "python",
   "name": "python3"
  },
  "language_info": {
   "codemirror_mode": {
    "name": "ipython",
    "version": 3
   },
   "file_extension": ".py",
   "mimetype": "text/x-python",
   "name": "python",
   "nbconvert_exporter": "python",
   "pygments_lexer": "ipython3",
   "version": "3.10.13"
  }
 },
 "nbformat": 4,
 "nbformat_minor": 5
}
